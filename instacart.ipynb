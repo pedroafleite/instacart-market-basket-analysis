{
  "nbformat": 4,
  "nbformat_minor": 0,
  "metadata": {
    "colab": {
      "name": "instacart.ipynb",
      "provenance": [],
      "collapsed_sections": [],
      "authorship_tag": "ABX9TyNTZTGGKtBMgWGfgKvUbDlx",
      "include_colab_link": true
    },
    "kernelspec": {
      "name": "python3",
      "display_name": "Python 3"
    }
  },
  "cells": [
    {
      "cell_type": "markdown",
      "metadata": {
        "id": "view-in-github",
        "colab_type": "text"
      },
      "source": [
        "<a href=\"https://colab.research.google.com/github/pedroafleite/instacart-market-basket-analysis/blob/main/instacart.ipynb\" target=\"_parent\"><img src=\"https://colab.research.google.com/assets/colab-badge.svg\" alt=\"Open In Colab\"/></a>"
      ]
    },
    {
      "cell_type": "code",
      "metadata": {
        "id": "aNUEooVMO26e",
        "colab": {
          "base_uri": "https://localhost:8080/"
        },
        "outputId": "e86089f3-8253-4e8a-b5ac-28a63a51023c"
      },
      "source": [
        "import pandas as pd\r\n",
        "import matplotlib.pyplot as plt\r\n",
        "%matplotlib inline\r\n",
        "\r\n",
        "from google.colab import drive\r\n",
        "drive.mount('/content/drive')"
      ],
      "execution_count": null,
      "outputs": [
        {
          "output_type": "stream",
          "text": [
            "Drive already mounted at /content/drive; to attempt to forcibly remount, call drive.mount(\"/content/drive\", force_remount=True).\n"
          ],
          "name": "stdout"
        }
      ]
    },
    {
      "cell_type": "code",
      "metadata": {
        "id": "6M06VCFlqMmz"
      },
      "source": [
        "aisles = pd.read_csv('/content/drive/MyDrive/instacart/aisles.csv')\r\n",
        "departments = pd.read_csv('/content/drive/MyDrive/instacart/departments.csv')\r\n",
        "order_products_prior = pd.read_csv('/content/drive/MyDrive/instacart/order_products__prior.csv')\r\n",
        "order_products_train = pd.read_csv('/content/drive/MyDrive/instacart/order_products__train.csv')\r\n",
        "orders = pd.read_csv('/content/drive/MyDrive/instacart/orders.csv')\r\n",
        "products = pd.read_csv('/content/drive/MyDrive/instacart/products.csv')\r\n",
        "sample_submission = pd.read_csv('/content/drive/MyDrive/instacart/sample_submission.csv')"
      ],
      "execution_count": null,
      "outputs": []
    },
    {
      "cell_type": "code",
      "metadata": {
        "id": "ZyXAPbM88oed"
      },
      "source": [
        "#2) Data exploration\r\n",
        "orders.columns #seems to be good for exploring the time in which purchases were made\r\n",
        "orders.dtypes\r\n",
        "#Day of the week\r\n",
        "orders.groupby('order_dow')['order_id'].count() #dow meaning 'day of the week'\r\n",
        "#values go from 0 to 6, but no documentation available regarding that\r\n",
        "#I would say that it starts on a saturday, since saturday and sunday should have the largest numbers (0 and 1 in this case)\r\n",
        "#I argue that supported from experience of all else\r\n",
        "days = {0:'Saturday', 1:'Sunday', 2:'Monday', 3:'Tuesday', \r\n",
        "        4:'Wednesday', 5:'Thursday', 6:'Friday'}\r\n",
        "orders['order_dow'] = orders['order_dow'].map(days) \r\n",
        "\r\n",
        "orders.groupby('order_dow')['order_id'].count().plot(kind=\"bar\")"
      ],
      "execution_count": null,
      "outputs": []
    },
    {
      "cell_type": "code",
      "metadata": {
        "id": "U-c0Piyi8syk"
      },
      "source": [
        "#Reorder days of the week as shown in plot\r\n",
        "dow = ['Monday', 'Tuesday', 'Wednesday', 'Thursday', \r\n",
        "                    'Friday', 'Saturday', 'Sunday']\r\n",
        "mapping = {order_dow: i for i, order_dow in enumerate(dow)}\r\n",
        "key = orders['order_dow'].map(mapping)\r\n",
        "orders = orders.iloc[key.argsort()]\r\n",
        "\r\n",
        "m1 = orders.groupby('order_dow', sort=False)['order_id'].count().plot(kind=\"bar\")\r\n",
        "plt.ylabel('Quantity of orders')\r\n",
        "plt.xlabel('')\r\n",
        "plt.yticks(rotation=0)\r\n",
        "plt.xticks(rotation=20)\r\n",
        "plt.show()"
      ],
      "execution_count": null,
      "outputs": []
    },
    {
      "cell_type": "code",
      "metadata": {
        "id": "1oSrLsuW9zFK"
      },
      "source": [
        "m2 = orders.groupby('order_hour_of_day')['order_id'].count().plot(kind=\"bar\")\r\n",
        "plt.ylabel('Quantity of orders')\r\n",
        "plt.xlabel('Hour of the day')\r\n",
        "plt.yticks(rotation=0)\r\n",
        "plt.xticks(rotation=0)\r\n",
        "plt.show()"
      ],
      "execution_count": null,
      "outputs": []
    },
    {
      "cell_type": "code",
      "metadata": {
        "id": "ysH1R3k79hZo"
      },
      "source": [
        "#Days since prior order\r\n",
        "m3 = orders.groupby('days_since_prior_order')['order_id'].count().plot(kind=\"bar\")\r\n",
        "plt.ylabel('Quantity of orders')\r\n",
        "plt.xlabel('Days since prior order')\r\n",
        "plt.yticks(rotation=0)\r\n",
        "plt.xticks(rotation=90)\r\n",
        "plt.show()"
      ],
      "execution_count": null,
      "outputs": []
    },
    {
      "cell_type": "code",
      "metadata": {
        "id": "jegnu-xD94SB"
      },
      "source": [
        "#Compare hour of the day by each day of the week to check for overlaps\r\n",
        "orders = pd.read_csv('/content/drive/MyDrive/instacart/orders.csv') #reload csv\r\n",
        "days = {0:'Saturday', 1:'Sunday', 2:'Monday', 3:'Tuesday', \r\n",
        "        4:'Wednesday', 5:'Thursday', 6:'Friday'}\r\n",
        "orders['order_dow'] = orders['order_dow'].map(days) \r\n",
        "compare_days = {'Saturday':'Weekends', 'Sunday':'Weekends', \r\n",
        "                'Monday': 'Week days', 'Tuesday':'Week days', \r\n",
        "                'Wednesday':'Week days', 'Thursday':'Week days', \r\n",
        "                'Friday':'Week days'}\r\n",
        "orders['order_dow'] = (orders['order_dow'].map(compare_days))\r\n",
        "\r\n",
        "m4 = orders['order_hour_of_day'].hist(by=orders['order_dow']) #roughly the same distribution"
      ],
      "execution_count": null,
      "outputs": []
    },
    {
      "cell_type": "code",
      "metadata": {
        "id": "MucKnj2V-HNp"
      },
      "source": [
        "#Create merge of orders and products\r\n",
        "order1 = order_products_train.merge(products, how='inner')\r\n",
        "order1 = order1.sort_values(by=['order_id','add_to_cart_order'])\r\n",
        "\r\n",
        "order1['product_name'].value_counts().head(20).plot(\r\n",
        "    kind='barh', figsize=(10,5), fontsize=12)\r\n",
        "plt.title('Most sold products', fontsize = 20)\r\n",
        "plt.ylabel('Product')\r\n",
        "plt.xlabel('Number')\r\n",
        "plt.show()"
      ],
      "execution_count": null,
      "outputs": []
    },
    {
      "cell_type": "code",
      "metadata": {
        "id": "w4oAQ_Io-DOC"
      },
      "source": [
        "# 4) Apriori algorithm\r\n",
        "from mlxtend.frequent_patterns import association_rules, apriori\r\n",
        "from mlxtend.preprocessing import TransactionEncoder"
      ],
      "execution_count": null,
      "outputs": []
    },
    {
      "cell_type": "code",
      "metadata": {
        "id": "uZn3jLoyAlhb"
      },
      "source": [
        "order2 = order1.groupby('order_id')['product_name'].agg(', '.join).reset_index()\r\n",
        "\r\n",
        "# get all shopping lists in one list\r\n",
        "one_product = list(order2['product_name'].apply(lambda x: sorted(x.split(','))))\r\n",
        "\r\n",
        "# instantiate transcation encoder\r\n",
        "encoder = TransactionEncoder().fit(one_product)\r\n",
        "onehot = encoder.transform(one_product)\r\n",
        "\r\n",
        "# convert one-hot encode data to DataFrame\r\n",
        "onehot = pd.DataFrame(onehot, columns=encoder.columns_)"
      ],
      "execution_count": null,
      "outputs": []
    },
    {
      "cell_type": "code",
      "metadata": {
        "id": "RMBiJxASBOUV"
      },
      "source": [
        "# compute frequent items using the Apriori algorithm - Get up to three items\r\n",
        "frequent_itemsets = apriori(onehot, min_support=.01, max_len=3, use_colnames=True)"
      ],
      "execution_count": null,
      "outputs": []
    }
  ]
}