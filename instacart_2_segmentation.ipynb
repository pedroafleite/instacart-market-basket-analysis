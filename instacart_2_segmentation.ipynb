{
  "nbformat": 4,
  "nbformat_minor": 0,
  "metadata": {
    "colab": {
      "name": "instacart-2-segmentation.ipynb",
      "provenance": [],
      "collapsed_sections": [],
      "authorship_tag": "ABX9TyNz4h9mBWXQdvBsayATtu5L",
      "include_colab_link": true
    },
    "kernelspec": {
      "display_name": "Python 3",
      "name": "python3"
    }
  },
  "cells": [
    {
      "cell_type": "markdown",
      "metadata": {
        "id": "view-in-github",
        "colab_type": "text"
      },
      "source": [
        "<a href=\"https://colab.research.google.com/github/pedroafleite/instacart-market-basket-analysis/blob/main/instacart_2_segmentation.ipynb\" target=\"_parent\"><img src=\"https://colab.research.google.com/assets/colab-badge.svg\" alt=\"Open In Colab\"/></a>"
      ]
    },
    {
      "cell_type": "code",
      "metadata": {
        "id": "r5r8ETACG0D3"
      },
      "source": [
        "#!pip install https://github.com/explosion/spacy-models/releases/download/en_core_web_lg-2.3.1/en_core_web_lg-2.3.1.tar.gz\r\n",
        "#!pip install en_core_web_lg"
      ],
      "execution_count": null,
      "outputs": []
    },
    {
      "cell_type": "code",
      "metadata": {
        "id": "03hB4uuMNbr5"
      },
      "source": [
        "#pip install -U spacy"
      ],
      "execution_count": null,
      "outputs": []
    },
    {
      "cell_type": "code",
      "metadata": {
        "colab": {
          "base_uri": "https://localhost:8080/"
        },
        "id": "PM14wn7LNhY9",
        "outputId": "170acd25-0720-4a6d-a786-775868b80294"
      },
      "source": [
        "import spacy.cli\r\n",
        "spacy.cli.download(\"en_core_web_lg\")"
      ],
      "execution_count": null,
      "outputs": [
        {
          "output_type": "stream",
          "text": [
            "\u001b[38;5;2m✔ Download and installation successful\u001b[0m\n",
            "You can now load the model via spacy.load('en_core_web_lg')\n"
          ],
          "name": "stdout"
        }
      ]
    },
    {
      "cell_type": "code",
      "metadata": {
        "colab": {
          "base_uri": "https://localhost:8080/"
        },
        "id": "TxniyEnV8P8h",
        "outputId": "b25f6260-d782-4f72-e2ee-568924437622"
      },
      "source": [
        "import pandas as pd\r\n",
        "import re, nltk, spacy, gensim\r\n",
        "import matplotlib.pyplot as plt\r\n",
        "%matplotlib inline\r\n",
        "\r\n",
        "from google.colab import drive\r\n",
        "drive.mount('/content/drive')"
      ],
      "execution_count": null,
      "outputs": [
        {
          "output_type": "stream",
          "text": [
            "Drive already mounted at /content/drive; to attempt to forcibly remount, call drive.mount(\"/content/drive\", force_remount=True).\n"
          ],
          "name": "stdout"
        }
      ]
    },
    {
      "cell_type": "code",
      "metadata": {
        "id": "p-GFQmqOAdS7"
      },
      "source": [
        "aisles = pd.read_csv('/content/drive/MyDrive/instacart/aisles.csv')\r\n",
        "departments = pd.read_csv('/content/drive/MyDrive/instacart/departments.csv')\r\n",
        "order_products_prior = pd.read_csv('/content/drive/MyDrive/instacart/order_products__prior.csv')\r\n",
        "order_products_train = pd.read_csv('/content/drive/MyDrive/instacart/order_products__train.csv')\r\n",
        "orders = pd.read_csv('/content/drive/MyDrive/instacart/orders.csv')\r\n",
        "products = pd.read_csv('/content/drive/MyDrive/instacart/products.csv')\r\n",
        "sample_submission = pd.read_csv('/content/drive/MyDrive/instacart/sample_submission.csv')"
      ],
      "execution_count": null,
      "outputs": []
    },
    {
      "cell_type": "code",
      "metadata": {
        "colab": {
          "base_uri": "https://localhost:8080/",
          "height": 204
        },
        "id": "evD907VZBMt4",
        "outputId": "4ed3616a-0be3-4cda-f559-edf35abc7e44"
      },
      "source": [
        "order1 = order_products_prior.merge(products, how='inner')\r\n",
        "order1 = order1.sort_values(by=['order_id','add_to_cart_order'])\r\n",
        "order1.head()"
      ],
      "execution_count": null,
      "outputs": [
        {
          "output_type": "execute_result",
          "data": {
            "text/html": [
              "<div>\n",
              "<style scoped>\n",
              "    .dataframe tbody tr th:only-of-type {\n",
              "        vertical-align: middle;\n",
              "    }\n",
              "\n",
              "    .dataframe tbody tr th {\n",
              "        vertical-align: top;\n",
              "    }\n",
              "\n",
              "    .dataframe thead th {\n",
              "        text-align: right;\n",
              "    }\n",
              "</style>\n",
              "<table border=\"1\" class=\"dataframe\">\n",
              "  <thead>\n",
              "    <tr style=\"text-align: right;\">\n",
              "      <th></th>\n",
              "      <th>order_id</th>\n",
              "      <th>product_id</th>\n",
              "      <th>add_to_cart_order</th>\n",
              "      <th>reordered</th>\n",
              "      <th>product_name</th>\n",
              "      <th>aisle_id</th>\n",
              "      <th>department_id</th>\n",
              "    </tr>\n",
              "  </thead>\n",
              "  <tbody>\n",
              "    <tr>\n",
              "      <th>0</th>\n",
              "      <td>2</td>\n",
              "      <td>33120</td>\n",
              "      <td>1</td>\n",
              "      <td>1</td>\n",
              "      <td>Organic Egg Whites</td>\n",
              "      <td>86</td>\n",
              "      <td>16</td>\n",
              "    </tr>\n",
              "    <tr>\n",
              "      <th>19400</th>\n",
              "      <td>2</td>\n",
              "      <td>28985</td>\n",
              "      <td>2</td>\n",
              "      <td>1</td>\n",
              "      <td>Michigan Organic Kale</td>\n",
              "      <td>83</td>\n",
              "      <td>4</td>\n",
              "    </tr>\n",
              "    <tr>\n",
              "      <th>86849</th>\n",
              "      <td>2</td>\n",
              "      <td>9327</td>\n",
              "      <td>3</td>\n",
              "      <td>0</td>\n",
              "      <td>Garlic Powder</td>\n",
              "      <td>104</td>\n",
              "      <td>13</td>\n",
              "    </tr>\n",
              "    <tr>\n",
              "      <th>93148</th>\n",
              "      <td>2</td>\n",
              "      <td>45918</td>\n",
              "      <td>4</td>\n",
              "      <td>1</td>\n",
              "      <td>Coconut Butter</td>\n",
              "      <td>19</td>\n",
              "      <td>13</td>\n",
              "    </tr>\n",
              "    <tr>\n",
              "      <th>93892</th>\n",
              "      <td>2</td>\n",
              "      <td>30035</td>\n",
              "      <td>5</td>\n",
              "      <td>0</td>\n",
              "      <td>Natural Sweetener</td>\n",
              "      <td>17</td>\n",
              "      <td>13</td>\n",
              "    </tr>\n",
              "  </tbody>\n",
              "</table>\n",
              "</div>"
            ],
            "text/plain": [
              "       order_id  product_id  ...  aisle_id  department_id\n",
              "0             2       33120  ...        86             16\n",
              "19400         2       28985  ...        83              4\n",
              "86849         2        9327  ...       104             13\n",
              "93148         2       45918  ...        19             13\n",
              "93892         2       30035  ...        17             13\n",
              "\n",
              "[5 rows x 7 columns]"
            ]
          },
          "metadata": {
            "tags": []
          },
          "execution_count": 6
        }
      ]
    },
    {
      "cell_type": "code",
      "metadata": {
        "colab": {
          "base_uri": "https://localhost:8080/"
        },
        "id": "hva0yFgPbr9b",
        "outputId": "bb187efb-85d1-444c-b2c5-bbd1c2dddb9b"
      },
      "source": [
        "order1.shape"
      ],
      "execution_count": null,
      "outputs": [
        {
          "output_type": "execute_result",
          "data": {
            "text/plain": [
              "(32434489, 7)"
            ]
          },
          "metadata": {
            "tags": []
          },
          "execution_count": 7
        }
      ]
    },
    {
      "cell_type": "code",
      "metadata": {
        "id": "rqYj1tFloIby"
      },
      "source": [
        "# Yield successive n-sized \r\n",
        "# chunks from l. \r\n",
        "def divide_chunks(l, n): \r\n",
        "      \r\n",
        "    # looping till length l \r\n",
        "    for i in range(0, len(l), n):  \r\n",
        "        yield l[i:i + n]\r\n",
        "\r\n",
        "# How many elements each \r\n",
        "# list should have \r\n",
        "n = int(len(order1)/100)\r\n",
        "  \r\n",
        "x = list(divide_chunks(order1, n)) "
      ],
      "execution_count": null,
      "outputs": []
    },
    {
      "cell_type": "code",
      "metadata": {
        "colab": {
          "base_uri": "https://localhost:8080/"
        },
        "id": "10EDQbSmo5OE",
        "outputId": "9176bf46-5ac9-45f9-de86-159600646b82"
      },
      "source": [
        "order2 = x[0]\r\n",
        "order2.shape"
      ],
      "execution_count": null,
      "outputs": [
        {
          "output_type": "execute_result",
          "data": {
            "text/plain": [
              "(324344, 7)"
            ]
          },
          "metadata": {
            "tags": []
          },
          "execution_count": 9
        }
      ]
    },
    {
      "cell_type": "code",
      "metadata": {
        "colab": {
          "base_uri": "https://localhost:8080/",
          "height": 359
        },
        "id": "NCfh988rCYkv",
        "outputId": "90f35380-36f1-4ae2-9cc3-1a150bfed72e"
      },
      "source": [
        "df = order2.merge(orders, how='outer')\r\n",
        "df.drop([\"add_to_cart_order\", \"reordered\", \"eval_set\", \"order_number\", \r\n",
        "         \"order_dow\", \"order_hour_of_day\", \"days_since_prior_order\"], axis=1, inplace=True)\r\n",
        "df.head(10)"
      ],
      "execution_count": null,
      "outputs": [
        {
          "output_type": "execute_result",
          "data": {
            "text/html": [
              "<div>\n",
              "<style scoped>\n",
              "    .dataframe tbody tr th:only-of-type {\n",
              "        vertical-align: middle;\n",
              "    }\n",
              "\n",
              "    .dataframe tbody tr th {\n",
              "        vertical-align: top;\n",
              "    }\n",
              "\n",
              "    .dataframe thead th {\n",
              "        text-align: right;\n",
              "    }\n",
              "</style>\n",
              "<table border=\"1\" class=\"dataframe\">\n",
              "  <thead>\n",
              "    <tr style=\"text-align: right;\">\n",
              "      <th></th>\n",
              "      <th>order_id</th>\n",
              "      <th>product_id</th>\n",
              "      <th>product_name</th>\n",
              "      <th>aisle_id</th>\n",
              "      <th>department_id</th>\n",
              "      <th>user_id</th>\n",
              "    </tr>\n",
              "  </thead>\n",
              "  <tbody>\n",
              "    <tr>\n",
              "      <th>0</th>\n",
              "      <td>2</td>\n",
              "      <td>33120.0</td>\n",
              "      <td>Organic Egg Whites</td>\n",
              "      <td>86.0</td>\n",
              "      <td>16.0</td>\n",
              "      <td>202279</td>\n",
              "    </tr>\n",
              "    <tr>\n",
              "      <th>1</th>\n",
              "      <td>2</td>\n",
              "      <td>28985.0</td>\n",
              "      <td>Michigan Organic Kale</td>\n",
              "      <td>83.0</td>\n",
              "      <td>4.0</td>\n",
              "      <td>202279</td>\n",
              "    </tr>\n",
              "    <tr>\n",
              "      <th>2</th>\n",
              "      <td>2</td>\n",
              "      <td>9327.0</td>\n",
              "      <td>Garlic Powder</td>\n",
              "      <td>104.0</td>\n",
              "      <td>13.0</td>\n",
              "      <td>202279</td>\n",
              "    </tr>\n",
              "    <tr>\n",
              "      <th>3</th>\n",
              "      <td>2</td>\n",
              "      <td>45918.0</td>\n",
              "      <td>Coconut Butter</td>\n",
              "      <td>19.0</td>\n",
              "      <td>13.0</td>\n",
              "      <td>202279</td>\n",
              "    </tr>\n",
              "    <tr>\n",
              "      <th>4</th>\n",
              "      <td>2</td>\n",
              "      <td>30035.0</td>\n",
              "      <td>Natural Sweetener</td>\n",
              "      <td>17.0</td>\n",
              "      <td>13.0</td>\n",
              "      <td>202279</td>\n",
              "    </tr>\n",
              "    <tr>\n",
              "      <th>5</th>\n",
              "      <td>2</td>\n",
              "      <td>17794.0</td>\n",
              "      <td>Carrots</td>\n",
              "      <td>83.0</td>\n",
              "      <td>4.0</td>\n",
              "      <td>202279</td>\n",
              "    </tr>\n",
              "    <tr>\n",
              "      <th>6</th>\n",
              "      <td>2</td>\n",
              "      <td>40141.0</td>\n",
              "      <td>Original Unflavored Gelatine Mix</td>\n",
              "      <td>105.0</td>\n",
              "      <td>13.0</td>\n",
              "      <td>202279</td>\n",
              "    </tr>\n",
              "    <tr>\n",
              "      <th>7</th>\n",
              "      <td>2</td>\n",
              "      <td>1819.0</td>\n",
              "      <td>All Natural No Stir Creamy Almond Butter</td>\n",
              "      <td>88.0</td>\n",
              "      <td>13.0</td>\n",
              "      <td>202279</td>\n",
              "    </tr>\n",
              "    <tr>\n",
              "      <th>8</th>\n",
              "      <td>2</td>\n",
              "      <td>43668.0</td>\n",
              "      <td>Classic Blend Cole Slaw</td>\n",
              "      <td>123.0</td>\n",
              "      <td>4.0</td>\n",
              "      <td>202279</td>\n",
              "    </tr>\n",
              "    <tr>\n",
              "      <th>9</th>\n",
              "      <td>3</td>\n",
              "      <td>33754.0</td>\n",
              "      <td>Total 2% with Strawberry Lowfat Greek Strained...</td>\n",
              "      <td>120.0</td>\n",
              "      <td>16.0</td>\n",
              "      <td>205970</td>\n",
              "    </tr>\n",
              "  </tbody>\n",
              "</table>\n",
              "</div>"
            ],
            "text/plain": [
              "   order_id  product_id  ... department_id  user_id\n",
              "0         2     33120.0  ...          16.0   202279\n",
              "1         2     28985.0  ...           4.0   202279\n",
              "2         2      9327.0  ...          13.0   202279\n",
              "3         2     45918.0  ...          13.0   202279\n",
              "4         2     30035.0  ...          13.0   202279\n",
              "5         2     17794.0  ...           4.0   202279\n",
              "6         2     40141.0  ...          13.0   202279\n",
              "7         2      1819.0  ...          13.0   202279\n",
              "8         2     43668.0  ...           4.0   202279\n",
              "9         3     33754.0  ...          16.0   205970\n",
              "\n",
              "[10 rows x 6 columns]"
            ]
          },
          "metadata": {
            "tags": []
          },
          "execution_count": 10
        }
      ]
    },
    {
      "cell_type": "code",
      "metadata": {
        "colab": {
          "base_uri": "https://localhost:8080/"
        },
        "id": "YDw706Mcpj9w",
        "outputId": "b4b0a92c-3b6b-44de-dac5-240eb0092000"
      },
      "source": [
        "df.shape"
      ],
      "execution_count": null,
      "outputs": [
        {
          "output_type": "execute_result",
          "data": {
            "text/plain": [
              "(3713274, 6)"
            ]
          },
          "metadata": {
            "tags": []
          },
          "execution_count": 11
        }
      ]
    },
    {
      "cell_type": "code",
      "metadata": {
        "colab": {
          "base_uri": "https://localhost:8080/"
        },
        "id": "qKLjSzbdVnJW",
        "outputId": "65475534-e29f-49c1-8c1e-eef8a6a926a6"
      },
      "source": [
        "df['user_id'].nunique()"
      ],
      "execution_count": null,
      "outputs": [
        {
          "output_type": "execute_result",
          "data": {
            "text/plain": [
              "206209"
            ]
          },
          "metadata": {
            "tags": []
          },
          "execution_count": 12
        }
      ]
    },
    {
      "cell_type": "code",
      "metadata": {
        "colab": {
          "base_uri": "https://localhost:8080/"
        },
        "id": "te81Bx4MV2w3",
        "outputId": "ee9cd94f-db40-47d4-e9ce-5edc9fcaa435"
      },
      "source": [
        "df['order_id'].nunique() # more orders than users, as expected"
      ],
      "execution_count": null,
      "outputs": [
        {
          "output_type": "execute_result",
          "data": {
            "text/plain": [
              "3421083"
            ]
          },
          "metadata": {
            "tags": []
          },
          "execution_count": 13
        }
      ]
    },
    {
      "cell_type": "code",
      "metadata": {
        "colab": {
          "base_uri": "https://localhost:8080/"
        },
        "id": "f7UYAIj1WlHZ",
        "outputId": "c4958ae9-4510-4496-ffa5-35962aff3a8c"
      },
      "source": [
        "df.isna().sum()"
      ],
      "execution_count": null,
      "outputs": [
        {
          "output_type": "execute_result",
          "data": {
            "text/plain": [
              "order_id         0\n",
              "product_id       0\n",
              "product_name     0\n",
              "aisle_id         0\n",
              "department_id    0\n",
              "user_id          0\n",
              "dtype: int64"
            ]
          },
          "metadata": {
            "tags": []
          },
          "execution_count": 25
        }
      ]
    },
    {
      "cell_type": "code",
      "metadata": {
        "id": "FZ6QVm0AXlyT"
      },
      "source": [
        "df = df.dropna()"
      ],
      "execution_count": null,
      "outputs": []
    },
    {
      "cell_type": "code",
      "metadata": {
        "id": "YqH1_pcBW5js"
      },
      "source": [
        "df.to_csv('/content/drive/MyDrive/instacart/df2.csv',encoding='utf-8', index=False)"
      ],
      "execution_count": null,
      "outputs": []
    },
    {
      "cell_type": "code",
      "metadata": {
        "colab": {
          "base_uri": "https://localhost:8080/"
        },
        "id": "L8tC9BSjAduD",
        "outputId": "f5477396-6b6f-4ffa-f74b-f729f9e6d444"
      },
      "source": [
        "def sent_to_words(sentences):\r\n",
        "    ''' Tokenisation of sentences without punctuation'''\r\n",
        "    \r\n",
        "    for sentence in sentences:\r\n",
        "        yield(gensim.utils.simple_preprocess(str(sentence), deacc=True))  # deacc=True Remove the punctuation\r\n",
        "        \r\n",
        "\r\n",
        "data_words = list(sent_to_words(df[\"product_name\"]))\r\n",
        "print(data_words[:1])"
      ],
      "execution_count": null,
      "outputs": [
        {
          "output_type": "stream",
          "text": [
            "[['organic', 'egg', 'whites']]\n"
          ],
          "name": "stdout"
        }
      ]
    },
    {
      "cell_type": "code",
      "metadata": {
        "id": "F6yzyHNcuObs"
      },
      "source": [
        "#len(data_words)/5"
      ],
      "execution_count": null,
      "outputs": []
    },
    {
      "cell_type": "code",
      "metadata": {
        "id": "PBnHA7CLrP6N"
      },
      "source": [
        "# Yield successive n-sized \r\n",
        "# chunks from l. \r\n",
        "#def divide_chunks(l, n): \r\n",
        "      \r\n",
        "    # looping till length l \r\n",
        "#    for i in range(0, len(l), n):  \r\n",
        "#        yield l[i:i + n]\r\n",
        "\r\n",
        "# How many elements each \r\n",
        "# list should have \r\n",
        "#n = 276923\r\n",
        "  \r\n",
        "#x = list(divide_chunks(data_words, n)) "
      ],
      "execution_count": null,
      "outputs": []
    },
    {
      "cell_type": "code",
      "metadata": {
        "colab": {
          "base_uri": "https://localhost:8080/"
        },
        "id": "BYwxMs8uuk69",
        "outputId": "d920df24-0292-4bcc-d3b1-e55ad90a779c"
      },
      "source": [
        "# \r\n",
        "#data_words = x[0]\r\n",
        "len(data_words)"
      ],
      "execution_count": null,
      "outputs": [
        {
          "output_type": "execute_result",
          "data": {
            "text/plain": [
              "324344"
            ]
          },
          "metadata": {
            "tags": []
          },
          "execution_count": 20
        }
      ]
    },
    {
      "cell_type": "code",
      "metadata": {
        "id": "8s0kZhamEAe4"
      },
      "source": [
        "def lemmatization(texts, allowed_postags=['NOUN', 'ADJ', 'VERB', 'ADV']):\r\n",
        "    \"\"\"It keeps the lemma of the words (lemma is the uninflected form of a word)\"\"\"\r\n",
        "    \r\n",
        "    texts_out = []\r\n",
        "    for sent in texts:\r\n",
        "        doc = nlp(\" \".join(sent)) \r\n",
        "        texts_out.append(\" \".join([token.lemma_ if token.lemma_ not in ['-PRON-'] else '' \r\n",
        "                                   for token in doc if token.pos_ in allowed_postags]))\r\n",
        "    return texts_out"
      ],
      "execution_count": null,
      "outputs": []
    },
    {
      "cell_type": "code",
      "metadata": {
        "id": "aF29-K4iLevl"
      },
      "source": [
        "# You don't have permission in Colab to load the model with normal spacy usage  .\r\n",
        "# Instead, import the model and load it directly:\r\n",
        "#import en_core_web_lg\r\n",
        "#nlp = en_core_web_lg.load()"
      ],
      "execution_count": null,
      "outputs": []
    },
    {
      "cell_type": "code",
      "metadata": {
        "id": "nkVmSXlAN--7"
      },
      "source": [
        "nlp = spacy.load('en_core_web_lg', disable=['parser', 'ner'])"
      ],
      "execution_count": null,
      "outputs": []
    },
    {
      "cell_type": "code",
      "metadata": {
        "colab": {
          "base_uri": "https://localhost:8080/"
        },
        "id": "L1lgYfeHZlJt",
        "outputId": "9914bfd0-ac23-4870-db0e-5e16b8add8a2"
      },
      "source": [
        "# Do lemmatization keeping only Noun, Adj, Verb, Adverb\r\n",
        "data_lemmatized = lemmatization(data_words, allowed_postags=['NOUN', 'ADJ', 'VERB', 'ADV'])\r\n",
        "\r\n",
        "print(data_lemmatized[:2])"
      ],
      "execution_count": null,
      "outputs": [
        {
          "output_type": "stream",
          "text": [
            "['organic egg white', '']\n"
          ],
          "name": "stdout"
        }
      ]
    },
    {
      "cell_type": "code",
      "metadata": {
        "colab": {
          "base_uri": "https://localhost:8080/"
        },
        "id": "zooyNQyX1H_M",
        "outputId": "60f15533-9087-42b8-d428-392437cae4b5"
      },
      "source": [
        "# Create our products categories using LDA algorithm \r\n",
        "\r\n",
        "from sklearn.feature_extraction.text import TfidfVectorizer, CountVectorizer\r\n",
        "from sklearn.decomposition import LatentDirichletAllocation\r\n",
        "\r\n",
        "n_features = 3000 \r\n",
        "n_components = 5 # number of categories\r\n",
        "n_top_words = 15\r\n",
        "\r\n",
        "\r\n",
        "print(\"Extraction of tf features for LDA...\")\r\n",
        "tf_vectorizer = CountVectorizer(max_df=0.95, min_df=2,\r\n",
        "                                max_features=n_features,\r\n",
        "                                stop_words='english')\r\n",
        "\r\n",
        "tf = tf_vectorizer.fit_transform(data_lemmatized)\r\n",
        "\r\n",
        "\r\n",
        "def print_top_words(model, feature_names, n_top_words):\r\n",
        "    \r\n",
        "    for topic_idx, topic in enumerate(model.components_):\r\n",
        "        message = \"Topic #%d: \" % topic_idx\r\n",
        "        message += \" \".join([feature_names[i]\r\n",
        "                             for i in topic.argsort()[:-n_top_words - 1:-1]])\r\n",
        "        print(message)\r\n",
        "    print()\r\n",
        "\r\n",
        "\r\n",
        "lda = LatentDirichletAllocation(n_components=n_components, max_iter=5,\r\n",
        "                                learning_method='online',\r\n",
        "                                learning_offset=50.,\r\n",
        "                                random_state=0).fit(tf)\r\n",
        "\r\n",
        "print(\"\\n The categories in the LDA model :\")\r\n",
        "tf_feature_names = tf_vectorizer.get_feature_names()\r\n",
        "print_top_words(lda, tf_feature_names, n_top_words)"
      ],
      "execution_count": null,
      "outputs": [
        {
          "output_type": "stream",
          "text": [
            "Extraction of tf features for LDA...\n",
            "\n",
            " The categories in the LDA model :\n",
            "Topic #0: organic water tomato strawberry butter bread sparkle sauce natural lemon grain wheat half raspberry fresh\n",
            "Topic #1: original chocolate large cream almond egg milk vanilla bar chip unsweetened brown pure grade ice\n",
            "Topic #2: organic banana bag apple juice green extra lime tortilla style oil flavor roll cucumber drink\n",
            "Topic #3: organic cheese baby salt bean spinach cheddar potato sweet blueberry slice coconut carrot roast corn\n",
            "Topic #4: organic milk free yogurt fat chicken gluten onion red white cracker grape breast snack reduce\n",
            "\n"
          ],
          "name": "stdout"
        }
      ]
    },
    {
      "cell_type": "code",
      "metadata": {
        "id": "ln84AOGn2OSp"
      },
      "source": [
        "#Creation of the Categories variable giving the category of each product purchased\r\n",
        "topics = lda.transform(tf)\r\n",
        "df_topics = pd.DataFrame(topics)\r\n",
        "list_topics = []\r\n",
        "\r\n",
        "for index, row in df_topics.iterrows():\r\n",
        "    column_line = str(row.idxmax(max(row)))\r\n",
        "    list_topics.append(column_line)\r\n",
        "    \r\n",
        "df[\"Categories\"] = pd.DataFrame(list_topics)"
      ],
      "execution_count": null,
      "outputs": []
    },
    {
      "cell_type": "code",
      "metadata": {
        "colab": {
          "base_uri": "https://localhost:8080/"
        },
        "id": "vY8XVwsw4Quw",
        "outputId": "66243e26-5021-4c92-a081-f67e4cebecf4"
      },
      "source": [
        "df['Categories'].value_counts()"
      ],
      "execution_count": null,
      "outputs": [
        {
          "output_type": "execute_result",
          "data": {
            "text/plain": [
              "0    101156\n",
              "3     63795\n",
              "4     56413\n",
              "2     52239\n",
              "1     50741\n",
              "Name: Categories, dtype: int64"
            ]
          },
          "metadata": {
            "tags": []
          },
          "execution_count": 29
        }
      ]
    },
    {
      "cell_type": "code",
      "metadata": {
        "colab": {
          "base_uri": "https://localhost:8080/",
          "height": 204
        },
        "id": "x60FHHfW4Ygd",
        "outputId": "6e3f87f6-2d7a-4413-bb70-0f951d0faff0"
      },
      "source": [
        "df.head()"
      ],
      "execution_count": null,
      "outputs": [
        {
          "output_type": "execute_result",
          "data": {
            "text/html": [
              "<div>\n",
              "<style scoped>\n",
              "    .dataframe tbody tr th:only-of-type {\n",
              "        vertical-align: middle;\n",
              "    }\n",
              "\n",
              "    .dataframe tbody tr th {\n",
              "        vertical-align: top;\n",
              "    }\n",
              "\n",
              "    .dataframe thead th {\n",
              "        text-align: right;\n",
              "    }\n",
              "</style>\n",
              "<table border=\"1\" class=\"dataframe\">\n",
              "  <thead>\n",
              "    <tr style=\"text-align: right;\">\n",
              "      <th></th>\n",
              "      <th>order_id</th>\n",
              "      <th>product_id</th>\n",
              "      <th>product_name</th>\n",
              "      <th>aisle_id</th>\n",
              "      <th>department_id</th>\n",
              "      <th>user_id</th>\n",
              "      <th>Categories</th>\n",
              "    </tr>\n",
              "  </thead>\n",
              "  <tbody>\n",
              "    <tr>\n",
              "      <th>0</th>\n",
              "      <td>2</td>\n",
              "      <td>33120.0</td>\n",
              "      <td>Organic Egg Whites</td>\n",
              "      <td>86.0</td>\n",
              "      <td>16.0</td>\n",
              "      <td>202279</td>\n",
              "      <td>4</td>\n",
              "    </tr>\n",
              "    <tr>\n",
              "      <th>1</th>\n",
              "      <td>2</td>\n",
              "      <td>28985.0</td>\n",
              "      <td>Michigan Organic Kale</td>\n",
              "      <td>83.0</td>\n",
              "      <td>4.0</td>\n",
              "      <td>202279</td>\n",
              "      <td>0</td>\n",
              "    </tr>\n",
              "    <tr>\n",
              "      <th>2</th>\n",
              "      <td>2</td>\n",
              "      <td>9327.0</td>\n",
              "      <td>Garlic Powder</td>\n",
              "      <td>104.0</td>\n",
              "      <td>13.0</td>\n",
              "      <td>202279</td>\n",
              "      <td>0</td>\n",
              "    </tr>\n",
              "    <tr>\n",
              "      <th>3</th>\n",
              "      <td>2</td>\n",
              "      <td>45918.0</td>\n",
              "      <td>Coconut Butter</td>\n",
              "      <td>19.0</td>\n",
              "      <td>13.0</td>\n",
              "      <td>202279</td>\n",
              "      <td>0</td>\n",
              "    </tr>\n",
              "    <tr>\n",
              "      <th>4</th>\n",
              "      <td>2</td>\n",
              "      <td>30035.0</td>\n",
              "      <td>Natural Sweetener</td>\n",
              "      <td>17.0</td>\n",
              "      <td>13.0</td>\n",
              "      <td>202279</td>\n",
              "      <td>4</td>\n",
              "    </tr>\n",
              "  </tbody>\n",
              "</table>\n",
              "</div>"
            ],
            "text/plain": [
              "   order_id  product_id  ... user_id  Categories\n",
              "0         2     33120.0  ...  202279           4\n",
              "1         2     28985.0  ...  202279           0\n",
              "2         2      9327.0  ...  202279           0\n",
              "3         2     45918.0  ...  202279           0\n",
              "4         2     30035.0  ...  202279           4\n",
              "\n",
              "[5 rows x 7 columns]"
            ]
          },
          "metadata": {
            "tags": []
          },
          "execution_count": 30
        }
      ]
    },
    {
      "cell_type": "code",
      "metadata": {
        "id": "oMw7t6To6hA3"
      },
      "source": [
        "df.dropna(axis=0, subset=[\"Categories\"], inplace=True)"
      ],
      "execution_count": null,
      "outputs": []
    },
    {
      "cell_type": "code",
      "metadata": {
        "id": "qgWjVysR4aeL"
      },
      "source": [
        "# One hot encoding on the variable Categories\r\n",
        "\r\n",
        "for category in df['Categories'].unique():\r\n",
        "    df[\"Category {}\".format(category)] = df['Categories'].str.contains(category).apply(lambda x:1 if x else 0)"
      ],
      "execution_count": null,
      "outputs": []
    },
    {
      "cell_type": "code",
      "metadata": {
        "id": "oZgkMnkp7o25"
      },
      "source": [
        "df.to_csv('/content/drive/MyDrive/instacart/df.csv',encoding='utf-8', index=False)"
      ],
      "execution_count": null,
      "outputs": []
    }
  ]
}