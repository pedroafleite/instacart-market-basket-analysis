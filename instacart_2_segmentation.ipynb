{
  "nbformat": 4,
  "nbformat_minor": 0,
  "metadata": {
    "colab": {
      "name": "instacart-2-segmentation.ipynb",
      "provenance": [],
      "collapsed_sections": [],
      "authorship_tag": "ABX9TyOX3GP62oe8dhIZC3TF9eBn",
      "include_colab_link": true
    },
    "kernelspec": {
      "display_name": "Python 3",
      "name": "python3"
    }
  },
  "cells": [
    {
      "cell_type": "markdown",
      "metadata": {
        "id": "view-in-github",
        "colab_type": "text"
      },
      "source": [
        "<a href=\"https://colab.research.google.com/github/pedroafleite/instacart-market-basket-analysis/blob/main/instacart_2_segmentation.ipynb\" target=\"_parent\"><img src=\"https://colab.research.google.com/assets/colab-badge.svg\" alt=\"Open In Colab\"/></a>"
      ]
    },
    {
      "cell_type": "code",
      "metadata": {
        "id": "r5r8ETACG0D3"
      },
      "source": [
        "#!pip install https://github.com/explosion/spacy-models/releases/download/en_core_web_lg-2.3.1/en_core_web_lg-2.3.1.tar.gz\r\n",
        "#!pip install en_core_web_lg"
      ],
      "execution_count": null,
      "outputs": []
    },
    {
      "cell_type": "code",
      "metadata": {
        "id": "03hB4uuMNbr5"
      },
      "source": [
        "#pip install -U spacy"
      ],
      "execution_count": null,
      "outputs": []
    },
    {
      "cell_type": "code",
      "metadata": {
        "colab": {
          "base_uri": "https://localhost:8080/"
        },
        "id": "PM14wn7LNhY9",
        "outputId": "3cc9c893-9701-43c4-c4af-259eebffbf4a"
      },
      "source": [
        "import spacy.cli\r\n",
        "spacy.cli.download(\"en_core_web_lg\")"
      ],
      "execution_count": null,
      "outputs": [
        {
          "output_type": "stream",
          "text": [
            "\u001b[38;5;2m✔ Download and installation successful\u001b[0m\n",
            "You can now load the model via spacy.load('en_core_web_lg')\n"
          ],
          "name": "stdout"
        }
      ]
    },
    {
      "cell_type": "code",
      "metadata": {
        "colab": {
          "base_uri": "https://localhost:8080/"
        },
        "id": "TxniyEnV8P8h",
        "outputId": "1e8ce18c-24ad-4fb8-cab9-531dd6d44d2b"
      },
      "source": [
        "import pandas as pd\r\n",
        "import re, nltk, spacy, gensim\r\n",
        "import matplotlib.pyplot as plt\r\n",
        "%matplotlib inline\r\n",
        "\r\n",
        "from google.colab import drive\r\n",
        "drive.mount('/content/drive')"
      ],
      "execution_count": null,
      "outputs": [
        {
          "output_type": "stream",
          "text": [
            "Mounted at /content/drive\n"
          ],
          "name": "stdout"
        }
      ]
    },
    {
      "cell_type": "code",
      "metadata": {
        "id": "p-GFQmqOAdS7"
      },
      "source": [
        "aisles = pd.read_csv('/content/drive/MyDrive/instacart/aisles.csv')\r\n",
        "departments = pd.read_csv('/content/drive/MyDrive/instacart/departments.csv')\r\n",
        "order_products_prior = pd.read_csv('/content/drive/MyDrive/instacart/order_products__prior.csv')\r\n",
        "order_products_train = pd.read_csv('/content/drive/MyDrive/instacart/order_products__train.csv')\r\n",
        "orders = pd.read_csv('/content/drive/MyDrive/instacart/orders.csv')\r\n",
        "products = pd.read_csv('/content/drive/MyDrive/instacart/products.csv')\r\n",
        "sample_submission = pd.read_csv('/content/drive/MyDrive/instacart/sample_submission.csv')"
      ],
      "execution_count": null,
      "outputs": []
    },
    {
      "cell_type": "code",
      "metadata": {
        "colab": {
          "base_uri": "https://localhost:8080/",
          "height": 204
        },
        "id": "evD907VZBMt4",
        "outputId": "e544fe15-5ce1-4545-bdde-724a252adc21"
      },
      "source": [
        "order1 = order_products_train.merge(products, how='inner')\r\n",
        "order1 = order1.sort_values(by=['order_id','add_to_cart_order'])\r\n",
        "order1.head()"
      ],
      "execution_count": null,
      "outputs": [
        {
          "output_type": "execute_result",
          "data": {
            "text/html": [
              "<div>\n",
              "<style scoped>\n",
              "    .dataframe tbody tr th:only-of-type {\n",
              "        vertical-align: middle;\n",
              "    }\n",
              "\n",
              "    .dataframe tbody tr th {\n",
              "        vertical-align: top;\n",
              "    }\n",
              "\n",
              "    .dataframe thead th {\n",
              "        text-align: right;\n",
              "    }\n",
              "</style>\n",
              "<table border=\"1\" class=\"dataframe\">\n",
              "  <thead>\n",
              "    <tr style=\"text-align: right;\">\n",
              "      <th></th>\n",
              "      <th>order_id</th>\n",
              "      <th>product_id</th>\n",
              "      <th>add_to_cart_order</th>\n",
              "      <th>reordered</th>\n",
              "      <th>product_name</th>\n",
              "      <th>aisle_id</th>\n",
              "      <th>department_id</th>\n",
              "    </tr>\n",
              "  </thead>\n",
              "  <tbody>\n",
              "    <tr>\n",
              "      <th>0</th>\n",
              "      <td>1</td>\n",
              "      <td>49302</td>\n",
              "      <td>1</td>\n",
              "      <td>1</td>\n",
              "      <td>Bulgarian Yogurt</td>\n",
              "      <td>120</td>\n",
              "      <td>16</td>\n",
              "    </tr>\n",
              "    <tr>\n",
              "      <th>8</th>\n",
              "      <td>1</td>\n",
              "      <td>11109</td>\n",
              "      <td>2</td>\n",
              "      <td>1</td>\n",
              "      <td>Organic 4% Milk Fat Whole Milk Cottage Cheese</td>\n",
              "      <td>108</td>\n",
              "      <td>16</td>\n",
              "    </tr>\n",
              "    <tr>\n",
              "      <th>152</th>\n",
              "      <td>1</td>\n",
              "      <td>10246</td>\n",
              "      <td>3</td>\n",
              "      <td>0</td>\n",
              "      <td>Organic Celery Hearts</td>\n",
              "      <td>83</td>\n",
              "      <td>4</td>\n",
              "    </tr>\n",
              "    <tr>\n",
              "      <th>1214</th>\n",
              "      <td>1</td>\n",
              "      <td>49683</td>\n",
              "      <td>4</td>\n",
              "      <td>0</td>\n",
              "      <td>Cucumber Kirby</td>\n",
              "      <td>83</td>\n",
              "      <td>4</td>\n",
              "    </tr>\n",
              "    <tr>\n",
              "      <th>3627</th>\n",
              "      <td>1</td>\n",
              "      <td>43633</td>\n",
              "      <td>5</td>\n",
              "      <td>1</td>\n",
              "      <td>Lightly Smoked Sardines in Olive Oil</td>\n",
              "      <td>95</td>\n",
              "      <td>15</td>\n",
              "    </tr>\n",
              "  </tbody>\n",
              "</table>\n",
              "</div>"
            ],
            "text/plain": [
              "      order_id  product_id  ...  aisle_id  department_id\n",
              "0            1       49302  ...       120             16\n",
              "8            1       11109  ...       108             16\n",
              "152          1       10246  ...        83              4\n",
              "1214         1       49683  ...        83              4\n",
              "3627         1       43633  ...        95             15\n",
              "\n",
              "[5 rows x 7 columns]"
            ]
          },
          "metadata": {
            "tags": []
          },
          "execution_count": 38
        }
      ]
    },
    {
      "cell_type": "code",
      "metadata": {
        "colab": {
          "base_uri": "https://localhost:8080/"
        },
        "id": "hva0yFgPbr9b",
        "outputId": "9e9460a4-89aa-4bc3-9922-42faa5eaaf52"
      },
      "source": [
        "order1.shape"
      ],
      "execution_count": null,
      "outputs": [
        {
          "output_type": "execute_result",
          "data": {
            "text/plain": [
              "(1384617, 7)"
            ]
          },
          "metadata": {
            "tags": []
          },
          "execution_count": 39
        }
      ]
    },
    {
      "cell_type": "code",
      "metadata": {
        "id": "rqYj1tFloIby"
      },
      "source": [
        "# Yield successive n-sized \r\n",
        "# chunks from l. \r\n",
        "#def divide_chunks(l, n): \r\n",
        "      \r\n",
        "    # looping till length l \r\n",
        "#    for i in range(0, len(l), n):  \r\n",
        "#        yield l[i:i + n]\r\n",
        "\r\n",
        "# How many elements each \r\n",
        "# list should have \r\n",
        "#n = int(len(order1)/100)\r\n",
        "  \r\n",
        "#x = list(divide_chunks(order1, n)) "
      ],
      "execution_count": null,
      "outputs": []
    },
    {
      "cell_type": "code",
      "metadata": {
        "colab": {
          "base_uri": "https://localhost:8080/"
        },
        "id": "10EDQbSmo5OE",
        "outputId": "a3d6b5c4-ec56-49e1-edd1-02e6b698d5f7"
      },
      "source": [
        "#order2 = x[0]\r\n",
        "order2.shape"
      ],
      "execution_count": null,
      "outputs": [
        {
          "output_type": "execute_result",
          "data": {
            "text/plain": [
              "(324344, 7)"
            ]
          },
          "metadata": {
            "tags": []
          },
          "execution_count": 40
        }
      ]
    },
    {
      "cell_type": "code",
      "metadata": {
        "colab": {
          "base_uri": "https://localhost:8080/",
          "height": 359
        },
        "id": "NCfh988rCYkv",
        "outputId": "0a7d8697-4674-4b38-95cb-442bc3167e86"
      },
      "source": [
        "df = order1.merge(orders, how='outer')\r\n",
        "df.drop([\"add_to_cart_order\", \"reordered\", \"eval_set\", \"order_number\", \r\n",
        "         \"order_dow\", \"order_hour_of_day\", \"days_since_prior_order\"], axis=1, inplace=True)\r\n",
        "df.head(10)"
      ],
      "execution_count": null,
      "outputs": [
        {
          "output_type": "execute_result",
          "data": {
            "text/html": [
              "<div>\n",
              "<style scoped>\n",
              "    .dataframe tbody tr th:only-of-type {\n",
              "        vertical-align: middle;\n",
              "    }\n",
              "\n",
              "    .dataframe tbody tr th {\n",
              "        vertical-align: top;\n",
              "    }\n",
              "\n",
              "    .dataframe thead th {\n",
              "        text-align: right;\n",
              "    }\n",
              "</style>\n",
              "<table border=\"1\" class=\"dataframe\">\n",
              "  <thead>\n",
              "    <tr style=\"text-align: right;\">\n",
              "      <th></th>\n",
              "      <th>order_id</th>\n",
              "      <th>product_id</th>\n",
              "      <th>product_name</th>\n",
              "      <th>aisle_id</th>\n",
              "      <th>department_id</th>\n",
              "      <th>user_id</th>\n",
              "    </tr>\n",
              "  </thead>\n",
              "  <tbody>\n",
              "    <tr>\n",
              "      <th>0</th>\n",
              "      <td>1</td>\n",
              "      <td>49302.0</td>\n",
              "      <td>Bulgarian Yogurt</td>\n",
              "      <td>120.0</td>\n",
              "      <td>16.0</td>\n",
              "      <td>112108</td>\n",
              "    </tr>\n",
              "    <tr>\n",
              "      <th>1</th>\n",
              "      <td>1</td>\n",
              "      <td>11109.0</td>\n",
              "      <td>Organic 4% Milk Fat Whole Milk Cottage Cheese</td>\n",
              "      <td>108.0</td>\n",
              "      <td>16.0</td>\n",
              "      <td>112108</td>\n",
              "    </tr>\n",
              "    <tr>\n",
              "      <th>2</th>\n",
              "      <td>1</td>\n",
              "      <td>10246.0</td>\n",
              "      <td>Organic Celery Hearts</td>\n",
              "      <td>83.0</td>\n",
              "      <td>4.0</td>\n",
              "      <td>112108</td>\n",
              "    </tr>\n",
              "    <tr>\n",
              "      <th>3</th>\n",
              "      <td>1</td>\n",
              "      <td>49683.0</td>\n",
              "      <td>Cucumber Kirby</td>\n",
              "      <td>83.0</td>\n",
              "      <td>4.0</td>\n",
              "      <td>112108</td>\n",
              "    </tr>\n",
              "    <tr>\n",
              "      <th>4</th>\n",
              "      <td>1</td>\n",
              "      <td>43633.0</td>\n",
              "      <td>Lightly Smoked Sardines in Olive Oil</td>\n",
              "      <td>95.0</td>\n",
              "      <td>15.0</td>\n",
              "      <td>112108</td>\n",
              "    </tr>\n",
              "    <tr>\n",
              "      <th>5</th>\n",
              "      <td>1</td>\n",
              "      <td>13176.0</td>\n",
              "      <td>Bag of Organic Bananas</td>\n",
              "      <td>24.0</td>\n",
              "      <td>4.0</td>\n",
              "      <td>112108</td>\n",
              "    </tr>\n",
              "    <tr>\n",
              "      <th>6</th>\n",
              "      <td>1</td>\n",
              "      <td>47209.0</td>\n",
              "      <td>Organic Hass Avocado</td>\n",
              "      <td>24.0</td>\n",
              "      <td>4.0</td>\n",
              "      <td>112108</td>\n",
              "    </tr>\n",
              "    <tr>\n",
              "      <th>7</th>\n",
              "      <td>1</td>\n",
              "      <td>22035.0</td>\n",
              "      <td>Organic Whole String Cheese</td>\n",
              "      <td>21.0</td>\n",
              "      <td>16.0</td>\n",
              "      <td>112108</td>\n",
              "    </tr>\n",
              "    <tr>\n",
              "      <th>8</th>\n",
              "      <td>36</td>\n",
              "      <td>39612.0</td>\n",
              "      <td>Grated Pecorino Romano Cheese</td>\n",
              "      <td>2.0</td>\n",
              "      <td>16.0</td>\n",
              "      <td>79431</td>\n",
              "    </tr>\n",
              "    <tr>\n",
              "      <th>9</th>\n",
              "      <td>36</td>\n",
              "      <td>19660.0</td>\n",
              "      <td>Spring Water</td>\n",
              "      <td>115.0</td>\n",
              "      <td>7.0</td>\n",
              "      <td>79431</td>\n",
              "    </tr>\n",
              "  </tbody>\n",
              "</table>\n",
              "</div>"
            ],
            "text/plain": [
              "   order_id  product_id  ... department_id  user_id\n",
              "0         1     49302.0  ...          16.0   112108\n",
              "1         1     11109.0  ...          16.0   112108\n",
              "2         1     10246.0  ...           4.0   112108\n",
              "3         1     49683.0  ...           4.0   112108\n",
              "4         1     43633.0  ...          15.0   112108\n",
              "5         1     13176.0  ...           4.0   112108\n",
              "6         1     47209.0  ...           4.0   112108\n",
              "7         1     22035.0  ...          16.0   112108\n",
              "8        36     39612.0  ...          16.0    79431\n",
              "9        36     19660.0  ...           7.0    79431\n",
              "\n",
              "[10 rows x 6 columns]"
            ]
          },
          "metadata": {
            "tags": []
          },
          "execution_count": 42
        }
      ]
    },
    {
      "cell_type": "code",
      "metadata": {
        "colab": {
          "base_uri": "https://localhost:8080/"
        },
        "id": "YDw706Mcpj9w",
        "outputId": "1b7b1834-3750-4103-fb7b-d3c94280ebd3"
      },
      "source": [
        "df.shape"
      ],
      "execution_count": null,
      "outputs": [
        {
          "output_type": "execute_result",
          "data": {
            "text/plain": [
              "(4674491, 6)"
            ]
          },
          "metadata": {
            "tags": []
          },
          "execution_count": 43
        }
      ]
    },
    {
      "cell_type": "code",
      "metadata": {
        "colab": {
          "base_uri": "https://localhost:8080/"
        },
        "id": "qKLjSzbdVnJW",
        "outputId": "5c833705-eed9-4c4b-aa93-4d62f414ed10"
      },
      "source": [
        "df['user_id'].nunique()"
      ],
      "execution_count": null,
      "outputs": [
        {
          "output_type": "execute_result",
          "data": {
            "text/plain": [
              "206209"
            ]
          },
          "metadata": {
            "tags": []
          },
          "execution_count": 44
        }
      ]
    },
    {
      "cell_type": "code",
      "metadata": {
        "colab": {
          "base_uri": "https://localhost:8080/"
        },
        "id": "te81Bx4MV2w3",
        "outputId": "b4da3ee5-ab88-48a8-ac19-8684cf15030e"
      },
      "source": [
        "df['order_id'].nunique() # more orders than users, as expected"
      ],
      "execution_count": null,
      "outputs": [
        {
          "output_type": "execute_result",
          "data": {
            "text/plain": [
              "3421083"
            ]
          },
          "metadata": {
            "tags": []
          },
          "execution_count": 45
        }
      ]
    },
    {
      "cell_type": "code",
      "metadata": {
        "colab": {
          "base_uri": "https://localhost:8080/"
        },
        "id": "f7UYAIj1WlHZ",
        "outputId": "aa55e80f-0df3-40d5-fd2a-278eb9093af0"
      },
      "source": [
        "df.isna().sum()"
      ],
      "execution_count": null,
      "outputs": [
        {
          "output_type": "execute_result",
          "data": {
            "text/plain": [
              "order_id               0\n",
              "product_id       3289874\n",
              "product_name     3289874\n",
              "aisle_id         3289874\n",
              "department_id    3289874\n",
              "user_id                0\n",
              "dtype: int64"
            ]
          },
          "metadata": {
            "tags": []
          },
          "execution_count": 46
        }
      ]
    },
    {
      "cell_type": "code",
      "metadata": {
        "id": "FZ6QVm0AXlyT"
      },
      "source": [
        "df = df.dropna()"
      ],
      "execution_count": null,
      "outputs": []
    },
    {
      "cell_type": "code",
      "metadata": {
        "colab": {
          "base_uri": "https://localhost:8080/"
        },
        "id": "v1KeHpq9wehO",
        "outputId": "47856a99-3a8d-48dc-9b01-3560ede969f1"
      },
      "source": [
        "df.shape"
      ],
      "execution_count": null,
      "outputs": [
        {
          "output_type": "execute_result",
          "data": {
            "text/plain": [
              "(1384617, 6)"
            ]
          },
          "metadata": {
            "tags": []
          },
          "execution_count": 48
        }
      ]
    },
    {
      "cell_type": "code",
      "metadata": {
        "id": "YqH1_pcBW5js"
      },
      "source": [
        "df.to_csv('/content/drive/MyDrive/instacart/df.csv',encoding='utf-8', index=False)"
      ],
      "execution_count": null,
      "outputs": []
    },
    {
      "cell_type": "code",
      "metadata": {
        "colab": {
          "base_uri": "https://localhost:8080/"
        },
        "id": "L8tC9BSjAduD",
        "outputId": "938fe8dc-0faf-45db-8c08-ae481317b33d"
      },
      "source": [
        "def sent_to_words(sentences):\r\n",
        "    ''' Tokenisation of sentences without punctuation'''\r\n",
        "    \r\n",
        "    for sentence in sentences:\r\n",
        "        yield(gensim.utils.simple_preprocess(str(sentence), deacc=True))  # deacc=True Remove the punctuation\r\n",
        "        \r\n",
        "\r\n",
        "data_words = list(sent_to_words(df[\"product_name\"]))\r\n",
        "print(data_words[:1])"
      ],
      "execution_count": null,
      "outputs": [
        {
          "output_type": "stream",
          "text": [
            "[['bulgarian', 'yogurt']]\n"
          ],
          "name": "stdout"
        }
      ]
    },
    {
      "cell_type": "code",
      "metadata": {
        "id": "F6yzyHNcuObs",
        "colab": {
          "base_uri": "https://localhost:8080/"
        },
        "outputId": "d04c352d-cbde-4aac-fc3e-d19851be71d5"
      },
      "source": [
        "len(data_words)/5"
      ],
      "execution_count": null,
      "outputs": [
        {
          "output_type": "execute_result",
          "data": {
            "text/plain": [
              "276923.4"
            ]
          },
          "metadata": {
            "tags": []
          },
          "execution_count": 55
        }
      ]
    },
    {
      "cell_type": "code",
      "metadata": {
        "id": "PBnHA7CLrP6N"
      },
      "source": [
        "# Yield successive n-sized \r\n",
        "# chunks from l. \r\n",
        "def divide_chunks(l, n): \r\n",
        "      \r\n",
        "    # looping till length l \r\n",
        "    for i in range(0, len(l), n):  \r\n",
        "        yield l[i:i + n]\r\n",
        "\r\n",
        "# How many elements each \r\n",
        "# list should have \r\n",
        "n = int(len(data_words)/3)\r\n",
        "  \r\n",
        "x = list(divide_chunks(data_words, n)) "
      ],
      "execution_count": null,
      "outputs": []
    },
    {
      "cell_type": "code",
      "metadata": {
        "colab": {
          "base_uri": "https://localhost:8080/"
        },
        "id": "BYwxMs8uuk69",
        "outputId": "f776fae1-6734-46ff-b246-a77d1188d45b"
      },
      "source": [
        "# \r\n",
        "data_words = x[0]\r\n",
        "len(data_words)"
      ],
      "execution_count": null,
      "outputs": [
        {
          "output_type": "execute_result",
          "data": {
            "text/plain": [
              "461539"
            ]
          },
          "metadata": {
            "tags": []
          },
          "execution_count": 79
        }
      ]
    },
    {
      "cell_type": "code",
      "metadata": {
        "id": "8s0kZhamEAe4"
      },
      "source": [
        "def lemmatization(texts, allowed_postags=['NOUN', 'ADJ', 'VERB', 'ADV']):\r\n",
        "    \"\"\"It keeps the lemma of the words (lemma is the uninflected form of a word)\"\"\"\r\n",
        "    \r\n",
        "    texts_out = []\r\n",
        "    for sent in texts:\r\n",
        "        doc = nlp(\" \".join(sent)) \r\n",
        "        texts_out.append(\" \".join([token.lemma_ if token.lemma_ not in ['-PRON-'] else '' \r\n",
        "                                   for token in doc if token.pos_ in allowed_postags]))\r\n",
        "    return texts_out"
      ],
      "execution_count": null,
      "outputs": []
    },
    {
      "cell_type": "code",
      "metadata": {
        "id": "aF29-K4iLevl"
      },
      "source": [
        "# You don't have permission in Colab to load the model with normal spacy usage  .\r\n",
        "# Instead, import the model and load it directly:\r\n",
        "#import en_core_web_lg\r\n",
        "#nlp = en_core_web_lg.load()"
      ],
      "execution_count": null,
      "outputs": []
    },
    {
      "cell_type": "code",
      "metadata": {
        "id": "nkVmSXlAN--7"
      },
      "source": [
        "nlp = spacy.load('en_core_web_lg', disable=['parser', 'ner'])"
      ],
      "execution_count": null,
      "outputs": []
    },
    {
      "cell_type": "code",
      "metadata": {
        "colab": {
          "base_uri": "https://localhost:8080/"
        },
        "id": "L1lgYfeHZlJt",
        "outputId": "c0254f57-9b1f-4a8b-f172-fabb899dbf0a"
      },
      "source": [
        "# Do lemmatization keeping only Noun, Adj, Verb, Adverb\r\n",
        "data_lemmatized = lemmatization(data_words, allowed_postags=['NOUN', 'ADJ', 'VERB', 'ADV'])\r\n",
        "\r\n",
        "print(data_lemmatized[:10])"
      ],
      "execution_count": null,
      "outputs": [
        {
          "output_type": "stream",
          "text": [
            "['bulgarian', 'organic milk fat whole milk cottage cheese', 'organic celery heart', '', 'lightly smoke sardine olive oil', 'bag organic banana', '', 'organic whole string cheese', 'grated cheese', 'spring']\n"
          ],
          "name": "stdout"
        }
      ]
    },
    {
      "cell_type": "code",
      "metadata": {
        "id": "yUSJffQIdC4u"
      },
      "source": [
        "data_lemmatized_pd = pd.DataFrame(data_lemmatized)\r\n",
        "data_lemmatized_pd.to_csv('/content/drive/MyDrive/instacart/data_lemmatized.csv',encoding='utf-8', index=False)"
      ],
      "execution_count": null,
      "outputs": []
    },
    {
      "cell_type": "code",
      "metadata": {
        "colab": {
          "base_uri": "https://localhost:8080/"
        },
        "id": "zooyNQyX1H_M",
        "outputId": "4f138f3c-ef31-491a-a54a-12523c0f64ee"
      },
      "source": [
        "# Create our products categories using LDA algorithm \r\n",
        "\r\n",
        "from sklearn.feature_extraction.text import TfidfVectorizer, CountVectorizer\r\n",
        "from sklearn.decomposition import LatentDirichletAllocation\r\n",
        "\r\n",
        "n_features = 3000 \r\n",
        "n_components = 5 # number of categories\r\n",
        "n_top_words = 15\r\n",
        "\r\n",
        "\r\n",
        "print(\"Extraction of tf features for LDA...\")\r\n",
        "tf_vectorizer = CountVectorizer(max_df=0.95, min_df=2,\r\n",
        "                                max_features=n_features,\r\n",
        "                                stop_words='english')\r\n",
        "\r\n",
        "tf = tf_vectorizer.fit_transform(data_lemmatized)\r\n",
        "\r\n",
        "\r\n",
        "def print_top_words(model, feature_names, n_top_words):\r\n",
        "    \r\n",
        "    for topic_idx, topic in enumerate(model.components_):\r\n",
        "        message = \"Topic #%d: \" % topic_idx\r\n",
        "        message += \" \".join([feature_names[i]\r\n",
        "                             for i in topic.argsort()[:-n_top_words - 1:-1]])\r\n",
        "        print(message)\r\n",
        "    print()\r\n",
        "\r\n",
        "\r\n",
        "lda = LatentDirichletAllocation(n_components=n_components, max_iter=5,\r\n",
        "                                learning_method='online',\r\n",
        "                                learning_offset=50.,\r\n",
        "                                random_state=0).fit(tf)\r\n",
        "\r\n",
        "print(\"\\n The categories in the LDA model :\")\r\n",
        "tf_feature_names = tf_vectorizer.get_feature_names()\r\n",
        "print_top_words(lda, tf_feature_names, n_top_words)"
      ],
      "execution_count": null,
      "outputs": [
        {
          "output_type": "stream",
          "text": [
            "Extraction of tf features for LDA...\n",
            "\n",
            " The categories in the LDA model :\n",
            "Topic #0: organic baby original tomato lemon juice sweet onion salt carrot lime potato roast raspberry garlic\n",
            "Topic #1: organic banana chocolate strawberry bag apple sauce blueberry bar extra butter peanut oil cookie food\n",
            "Topic #2: free water large cream almond sparkle bread egg gluten milk unsweetened wheat fresh brown ice\n",
            "Topic #3: milk yogurt fat natural coconut cracker bean reduce snack low greek vanilla cereal total plain\n",
            "Topic #4: cheese chip chicken spinach cheddar white green red slice breast half shred rice roll pizza\n",
            "\n"
          ],
          "name": "stdout"
        }
      ]
    },
    {
      "cell_type": "code",
      "metadata": {
        "id": "ln84AOGn2OSp"
      },
      "source": [
        "#Creation of the Categories variable giving the category of each product purchased\r\n",
        "topics = lda.transform(tf)\r\n",
        "df_topics = pd.DataFrame(topics)\r\n",
        "list_topics = []\r\n",
        "\r\n",
        "for index, row in df_topics.iterrows():\r\n",
        "    column_line = str(row.idxmax(max(row)))\r\n",
        "    list_topics.append(column_line)\r\n",
        "    \r\n",
        "df[\"Categories\"] = pd.DataFrame(list_topics)"
      ],
      "execution_count": null,
      "outputs": []
    },
    {
      "cell_type": "code",
      "metadata": {
        "colab": {
          "base_uri": "https://localhost:8080/"
        },
        "id": "vY8XVwsw4Quw",
        "outputId": "35bafce3-16a4-4ab9-934f-eee6f4f34f5d"
      },
      "source": [
        "df['Categories'].value_counts()"
      ],
      "execution_count": null,
      "outputs": [
        {
          "output_type": "execute_result",
          "data": {
            "text/plain": [
              "0    140083\n",
              "1     93051\n",
              "2     84057\n",
              "4     73963\n",
              "3     70385\n",
              "Name: Categories, dtype: int64"
            ]
          },
          "metadata": {
            "tags": []
          },
          "execution_count": 74
        }
      ]
    },
    {
      "cell_type": "code",
      "metadata": {
        "colab": {
          "base_uri": "https://localhost:8080/",
          "height": 272
        },
        "id": "x60FHHfW4Ygd",
        "outputId": "551853ce-ee0d-40e1-9a10-d2d3a91d5c0c"
      },
      "source": [
        "df.head()"
      ],
      "execution_count": null,
      "outputs": [
        {
          "output_type": "execute_result",
          "data": {
            "text/html": [
              "<div>\n",
              "<style scoped>\n",
              "    .dataframe tbody tr th:only-of-type {\n",
              "        vertical-align: middle;\n",
              "    }\n",
              "\n",
              "    .dataframe tbody tr th {\n",
              "        vertical-align: top;\n",
              "    }\n",
              "\n",
              "    .dataframe thead th {\n",
              "        text-align: right;\n",
              "    }\n",
              "</style>\n",
              "<table border=\"1\" class=\"dataframe\">\n",
              "  <thead>\n",
              "    <tr style=\"text-align: right;\">\n",
              "      <th></th>\n",
              "      <th>order_id</th>\n",
              "      <th>product_id</th>\n",
              "      <th>product_name</th>\n",
              "      <th>aisle_id</th>\n",
              "      <th>department_id</th>\n",
              "      <th>user_id</th>\n",
              "      <th>Categories</th>\n",
              "      <th>Category 1</th>\n",
              "      <th>Category 3</th>\n",
              "      <th>Category 0</th>\n",
              "      <th>Category 4</th>\n",
              "      <th>Category 2</th>\n",
              "      <th>Category 6</th>\n",
              "      <th>Category 5</th>\n",
              "    </tr>\n",
              "  </thead>\n",
              "  <tbody>\n",
              "    <tr>\n",
              "      <th>0</th>\n",
              "      <td>1</td>\n",
              "      <td>49302.0</td>\n",
              "      <td>Bulgarian Yogurt</td>\n",
              "      <td>120.0</td>\n",
              "      <td>16.0</td>\n",
              "      <td>112108</td>\n",
              "      <td>0</td>\n",
              "      <td>1</td>\n",
              "      <td>0</td>\n",
              "      <td>0</td>\n",
              "      <td>0</td>\n",
              "      <td>0</td>\n",
              "      <td>0</td>\n",
              "      <td>0</td>\n",
              "    </tr>\n",
              "    <tr>\n",
              "      <th>1</th>\n",
              "      <td>1</td>\n",
              "      <td>11109.0</td>\n",
              "      <td>Organic 4% Milk Fat Whole Milk Cottage Cheese</td>\n",
              "      <td>108.0</td>\n",
              "      <td>16.0</td>\n",
              "      <td>112108</td>\n",
              "      <td>3</td>\n",
              "      <td>0</td>\n",
              "      <td>1</td>\n",
              "      <td>0</td>\n",
              "      <td>0</td>\n",
              "      <td>0</td>\n",
              "      <td>0</td>\n",
              "      <td>0</td>\n",
              "    </tr>\n",
              "    <tr>\n",
              "      <th>2</th>\n",
              "      <td>1</td>\n",
              "      <td>10246.0</td>\n",
              "      <td>Organic Celery Hearts</td>\n",
              "      <td>83.0</td>\n",
              "      <td>4.0</td>\n",
              "      <td>112108</td>\n",
              "      <td>0</td>\n",
              "      <td>0</td>\n",
              "      <td>0</td>\n",
              "      <td>1</td>\n",
              "      <td>0</td>\n",
              "      <td>0</td>\n",
              "      <td>0</td>\n",
              "      <td>0</td>\n",
              "    </tr>\n",
              "    <tr>\n",
              "      <th>3</th>\n",
              "      <td>1</td>\n",
              "      <td>49683.0</td>\n",
              "      <td>Cucumber Kirby</td>\n",
              "      <td>83.0</td>\n",
              "      <td>4.0</td>\n",
              "      <td>112108</td>\n",
              "      <td>0</td>\n",
              "      <td>0</td>\n",
              "      <td>0</td>\n",
              "      <td>1</td>\n",
              "      <td>0</td>\n",
              "      <td>0</td>\n",
              "      <td>0</td>\n",
              "      <td>0</td>\n",
              "    </tr>\n",
              "    <tr>\n",
              "      <th>4</th>\n",
              "      <td>1</td>\n",
              "      <td>43633.0</td>\n",
              "      <td>Lightly Smoked Sardines in Olive Oil</td>\n",
              "      <td>95.0</td>\n",
              "      <td>15.0</td>\n",
              "      <td>112108</td>\n",
              "      <td>4</td>\n",
              "      <td>1</td>\n",
              "      <td>0</td>\n",
              "      <td>0</td>\n",
              "      <td>0</td>\n",
              "      <td>0</td>\n",
              "      <td>0</td>\n",
              "      <td>0</td>\n",
              "    </tr>\n",
              "  </tbody>\n",
              "</table>\n",
              "</div>"
            ],
            "text/plain": [
              "   order_id  product_id  ... Category 6  Category 5\n",
              "0         1     49302.0  ...          0           0\n",
              "1         1     11109.0  ...          0           0\n",
              "2         1     10246.0  ...          0           0\n",
              "3         1     49683.0  ...          0           0\n",
              "4         1     43633.0  ...          0           0\n",
              "\n",
              "[5 rows x 14 columns]"
            ]
          },
          "metadata": {
            "tags": []
          },
          "execution_count": 75
        }
      ]
    },
    {
      "cell_type": "code",
      "metadata": {
        "id": "oMw7t6To6hA3"
      },
      "source": [
        "df.dropna(axis=0, subset=[\"Categories\"], inplace=True)"
      ],
      "execution_count": null,
      "outputs": []
    },
    {
      "cell_type": "code",
      "metadata": {
        "id": "qgWjVysR4aeL"
      },
      "source": [
        "# One hot encoding on the variable Categories\r\n",
        "\r\n",
        "for category in df['Categories'].unique():\r\n",
        "    df[\"Category {}\".format(category)] = df['Categories'].str.contains(category).apply(lambda x:1 if x else 0)"
      ],
      "execution_count": null,
      "outputs": []
    },
    {
      "cell_type": "code",
      "metadata": {
        "id": "oZgkMnkp7o25"
      },
      "source": [
        "df.to_csv('/content/drive/MyDrive/instacart/df.csv',encoding='utf-8', index=False)"
      ],
      "execution_count": null,
      "outputs": []
    }
  ]
}