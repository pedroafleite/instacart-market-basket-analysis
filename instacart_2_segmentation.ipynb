{
  "nbformat": 4,
  "nbformat_minor": 0,
  "metadata": {
    "colab": {
      "name": "instacart-2-segmentation.ipynb",
      "provenance": [],
      "collapsed_sections": [],
      "authorship_tag": "ABX9TyO9zkvkRDpXgfuAFNqJITzF",
      "include_colab_link": true
    },
    "kernelspec": {
      "display_name": "Python 3",
      "name": "python3"
    }
  },
  "cells": [
    {
      "cell_type": "markdown",
      "metadata": {
        "id": "view-in-github",
        "colab_type": "text"
      },
      "source": [
        "<a href=\"https://colab.research.google.com/github/pedroafleite/instacart-market-basket-analysis/blob/main/instacart_2_segmentation.ipynb\" target=\"_parent\"><img src=\"https://colab.research.google.com/assets/colab-badge.svg\" alt=\"Open In Colab\"/></a>"
      ]
    },
    {
      "cell_type": "code",
      "metadata": {
        "id": "r5r8ETACG0D3"
      },
      "source": [
        "#!pip install https://github.com/explosion/spacy-models/releases/download/en_core_web_lg-2.3.1/en_core_web_lg-2.3.1.tar.gz\r\n",
        "#!pip install en_core_web_lg"
      ],
      "execution_count": null,
      "outputs": []
    },
    {
      "cell_type": "code",
      "metadata": {
        "id": "03hB4uuMNbr5"
      },
      "source": [
        "#pip install -U spacy"
      ],
      "execution_count": null,
      "outputs": []
    },
    {
      "cell_type": "code",
      "metadata": {
        "colab": {
          "base_uri": "https://localhost:8080/"
        },
        "id": "PM14wn7LNhY9",
        "outputId": "8e49fcd2-9fe5-4b07-cadd-348af7a8b734"
      },
      "source": [
        "import spacy.cli\r\n",
        "spacy.cli.download(\"en_core_web_lg\")"
      ],
      "execution_count": null,
      "outputs": [
        {
          "output_type": "stream",
          "text": [
            "\u001b[38;5;2m✔ Download and installation successful\u001b[0m\n",
            "You can now load the model via spacy.load('en_core_web_lg')\n"
          ],
          "name": "stdout"
        }
      ]
    },
    {
      "cell_type": "code",
      "metadata": {
        "colab": {
          "base_uri": "https://localhost:8080/"
        },
        "id": "TxniyEnV8P8h",
        "outputId": "9655dff4-ecb6-4725-84bb-b8e1801dccef"
      },
      "source": [
        "import pandas as pd\r\n",
        "import re, nltk, spacy, gensim\r\n",
        "import matplotlib.pyplot as plt\r\n",
        "%matplotlib inline\r\n",
        "\r\n",
        "from google.colab import drive\r\n",
        "drive.mount('/content/drive')"
      ],
      "execution_count": null,
      "outputs": [
        {
          "output_type": "stream",
          "text": [
            "Mounted at /content/drive\n"
          ],
          "name": "stdout"
        }
      ]
    },
    {
      "cell_type": "code",
      "metadata": {
        "id": "p-GFQmqOAdS7"
      },
      "source": [
        "aisles = pd.read_csv('/content/drive/MyDrive/instacart/aisles.csv')\r\n",
        "departments = pd.read_csv('/content/drive/MyDrive/instacart/departments.csv')\r\n",
        "order_products_prior = pd.read_csv('/content/drive/MyDrive/instacart/order_products__prior.csv')\r\n",
        "order_products_train = pd.read_csv('/content/drive/MyDrive/instacart/order_products__train.csv')\r\n",
        "orders = pd.read_csv('/content/drive/MyDrive/instacart/orders.csv')\r\n",
        "products = pd.read_csv('/content/drive/MyDrive/instacart/products.csv')\r\n",
        "sample_submission = pd.read_csv('/content/drive/MyDrive/instacart/sample_submission.csv')"
      ],
      "execution_count": null,
      "outputs": []
    },
    {
      "cell_type": "code",
      "metadata": {
        "colab": {
          "base_uri": "https://localhost:8080/",
          "height": 204
        },
        "id": "evD907VZBMt4",
        "outputId": "68549307-bb5f-461b-f615-a72737ab32be"
      },
      "source": [
        "order1 = order_products_prior.merge(products, how='inner')\r\n",
        "order1 = order1.sort_values(by=['order_id','add_to_cart_order'])\r\n",
        "order1.head()"
      ],
      "execution_count": null,
      "outputs": [
        {
          "output_type": "execute_result",
          "data": {
            "text/html": [
              "<div>\n",
              "<style scoped>\n",
              "    .dataframe tbody tr th:only-of-type {\n",
              "        vertical-align: middle;\n",
              "    }\n",
              "\n",
              "    .dataframe tbody tr th {\n",
              "        vertical-align: top;\n",
              "    }\n",
              "\n",
              "    .dataframe thead th {\n",
              "        text-align: right;\n",
              "    }\n",
              "</style>\n",
              "<table border=\"1\" class=\"dataframe\">\n",
              "  <thead>\n",
              "    <tr style=\"text-align: right;\">\n",
              "      <th></th>\n",
              "      <th>order_id</th>\n",
              "      <th>product_id</th>\n",
              "      <th>add_to_cart_order</th>\n",
              "      <th>reordered</th>\n",
              "      <th>product_name</th>\n",
              "      <th>aisle_id</th>\n",
              "      <th>department_id</th>\n",
              "    </tr>\n",
              "  </thead>\n",
              "  <tbody>\n",
              "    <tr>\n",
              "      <th>0</th>\n",
              "      <td>2</td>\n",
              "      <td>33120</td>\n",
              "      <td>1</td>\n",
              "      <td>1</td>\n",
              "      <td>Organic Egg Whites</td>\n",
              "      <td>86</td>\n",
              "      <td>16</td>\n",
              "    </tr>\n",
              "    <tr>\n",
              "      <th>19400</th>\n",
              "      <td>2</td>\n",
              "      <td>28985</td>\n",
              "      <td>2</td>\n",
              "      <td>1</td>\n",
              "      <td>Michigan Organic Kale</td>\n",
              "      <td>83</td>\n",
              "      <td>4</td>\n",
              "    </tr>\n",
              "    <tr>\n",
              "      <th>86849</th>\n",
              "      <td>2</td>\n",
              "      <td>9327</td>\n",
              "      <td>3</td>\n",
              "      <td>0</td>\n",
              "      <td>Garlic Powder</td>\n",
              "      <td>104</td>\n",
              "      <td>13</td>\n",
              "    </tr>\n",
              "    <tr>\n",
              "      <th>93148</th>\n",
              "      <td>2</td>\n",
              "      <td>45918</td>\n",
              "      <td>4</td>\n",
              "      <td>1</td>\n",
              "      <td>Coconut Butter</td>\n",
              "      <td>19</td>\n",
              "      <td>13</td>\n",
              "    </tr>\n",
              "    <tr>\n",
              "      <th>93892</th>\n",
              "      <td>2</td>\n",
              "      <td>30035</td>\n",
              "      <td>5</td>\n",
              "      <td>0</td>\n",
              "      <td>Natural Sweetener</td>\n",
              "      <td>17</td>\n",
              "      <td>13</td>\n",
              "    </tr>\n",
              "  </tbody>\n",
              "</table>\n",
              "</div>"
            ],
            "text/plain": [
              "       order_id  product_id  ...  aisle_id  department_id\n",
              "0             2       33120  ...        86             16\n",
              "19400         2       28985  ...        83              4\n",
              "86849         2        9327  ...       104             13\n",
              "93148         2       45918  ...        19             13\n",
              "93892         2       30035  ...        17             13\n",
              "\n",
              "[5 rows x 7 columns]"
            ]
          },
          "metadata": {
            "tags": []
          },
          "execution_count": 4
        }
      ]
    },
    {
      "cell_type": "code",
      "metadata": {
        "colab": {
          "base_uri": "https://localhost:8080/"
        },
        "id": "hva0yFgPbr9b",
        "outputId": "71c190d5-271f-41a3-f888-96cb9f1ce042"
      },
      "source": [
        "order1.shape"
      ],
      "execution_count": null,
      "outputs": [
        {
          "output_type": "execute_result",
          "data": {
            "text/plain": [
              "(32434489, 7)"
            ]
          },
          "metadata": {
            "tags": []
          },
          "execution_count": 5
        }
      ]
    },
    {
      "cell_type": "code",
      "metadata": {
        "id": "rqYj1tFloIby"
      },
      "source": [
        "# Yield successive n-sized chunks from l. \r\n",
        "def divide_chunks(l, n): \r\n",
        "      \r\n",
        "    # looping till length l \r\n",
        "    for i in range(0, len(l), n):  \r\n",
        "        yield l[i:i + n]\r\n",
        "\r\n",
        "# How many elements each list should have \r\n",
        "n = int(len(order1)/30)\r\n",
        "x = list(divide_chunks(order1, n)) "
      ],
      "execution_count": null,
      "outputs": []
    },
    {
      "cell_type": "code",
      "metadata": {
        "id": "10EDQbSmo5OE",
        "colab": {
          "base_uri": "https://localhost:8080/"
        },
        "outputId": "a4dacc32-a51e-452e-ef4c-c920e3af9202"
      },
      "source": [
        "order2 = x[0]\r\n",
        "order2.shape"
      ],
      "execution_count": null,
      "outputs": [
        {
          "output_type": "execute_result",
          "data": {
            "text/plain": [
              "(1081149, 7)"
            ]
          },
          "metadata": {
            "tags": []
          },
          "execution_count": 7
        }
      ]
    },
    {
      "cell_type": "code",
      "metadata": {
        "colab": {
          "base_uri": "https://localhost:8080/",
          "height": 359
        },
        "id": "NCfh988rCYkv",
        "outputId": "a22f04c5-3126-41f9-8cd1-408ee96972d6"
      },
      "source": [
        "df = order2.merge(orders, how='inner')\r\n",
        "df.drop([\"add_to_cart_order\", \"reordered\", \"eval_set\", \"order_number\", \r\n",
        "         \"order_dow\", \"order_hour_of_day\", \"days_since_prior_order\"], axis=1, inplace=True)\r\n",
        "df.head(10)"
      ],
      "execution_count": null,
      "outputs": [
        {
          "output_type": "execute_result",
          "data": {
            "text/html": [
              "<div>\n",
              "<style scoped>\n",
              "    .dataframe tbody tr th:only-of-type {\n",
              "        vertical-align: middle;\n",
              "    }\n",
              "\n",
              "    .dataframe tbody tr th {\n",
              "        vertical-align: top;\n",
              "    }\n",
              "\n",
              "    .dataframe thead th {\n",
              "        text-align: right;\n",
              "    }\n",
              "</style>\n",
              "<table border=\"1\" class=\"dataframe\">\n",
              "  <thead>\n",
              "    <tr style=\"text-align: right;\">\n",
              "      <th></th>\n",
              "      <th>order_id</th>\n",
              "      <th>product_id</th>\n",
              "      <th>product_name</th>\n",
              "      <th>aisle_id</th>\n",
              "      <th>department_id</th>\n",
              "      <th>user_id</th>\n",
              "    </tr>\n",
              "  </thead>\n",
              "  <tbody>\n",
              "    <tr>\n",
              "      <th>0</th>\n",
              "      <td>2</td>\n",
              "      <td>33120</td>\n",
              "      <td>Organic Egg Whites</td>\n",
              "      <td>86</td>\n",
              "      <td>16</td>\n",
              "      <td>202279</td>\n",
              "    </tr>\n",
              "    <tr>\n",
              "      <th>1</th>\n",
              "      <td>2</td>\n",
              "      <td>28985</td>\n",
              "      <td>Michigan Organic Kale</td>\n",
              "      <td>83</td>\n",
              "      <td>4</td>\n",
              "      <td>202279</td>\n",
              "    </tr>\n",
              "    <tr>\n",
              "      <th>2</th>\n",
              "      <td>2</td>\n",
              "      <td>9327</td>\n",
              "      <td>Garlic Powder</td>\n",
              "      <td>104</td>\n",
              "      <td>13</td>\n",
              "      <td>202279</td>\n",
              "    </tr>\n",
              "    <tr>\n",
              "      <th>3</th>\n",
              "      <td>2</td>\n",
              "      <td>45918</td>\n",
              "      <td>Coconut Butter</td>\n",
              "      <td>19</td>\n",
              "      <td>13</td>\n",
              "      <td>202279</td>\n",
              "    </tr>\n",
              "    <tr>\n",
              "      <th>4</th>\n",
              "      <td>2</td>\n",
              "      <td>30035</td>\n",
              "      <td>Natural Sweetener</td>\n",
              "      <td>17</td>\n",
              "      <td>13</td>\n",
              "      <td>202279</td>\n",
              "    </tr>\n",
              "    <tr>\n",
              "      <th>5</th>\n",
              "      <td>2</td>\n",
              "      <td>17794</td>\n",
              "      <td>Carrots</td>\n",
              "      <td>83</td>\n",
              "      <td>4</td>\n",
              "      <td>202279</td>\n",
              "    </tr>\n",
              "    <tr>\n",
              "      <th>6</th>\n",
              "      <td>2</td>\n",
              "      <td>40141</td>\n",
              "      <td>Original Unflavored Gelatine Mix</td>\n",
              "      <td>105</td>\n",
              "      <td>13</td>\n",
              "      <td>202279</td>\n",
              "    </tr>\n",
              "    <tr>\n",
              "      <th>7</th>\n",
              "      <td>2</td>\n",
              "      <td>1819</td>\n",
              "      <td>All Natural No Stir Creamy Almond Butter</td>\n",
              "      <td>88</td>\n",
              "      <td>13</td>\n",
              "      <td>202279</td>\n",
              "    </tr>\n",
              "    <tr>\n",
              "      <th>8</th>\n",
              "      <td>2</td>\n",
              "      <td>43668</td>\n",
              "      <td>Classic Blend Cole Slaw</td>\n",
              "      <td>123</td>\n",
              "      <td>4</td>\n",
              "      <td>202279</td>\n",
              "    </tr>\n",
              "    <tr>\n",
              "      <th>9</th>\n",
              "      <td>3</td>\n",
              "      <td>33754</td>\n",
              "      <td>Total 2% with Strawberry Lowfat Greek Strained...</td>\n",
              "      <td>120</td>\n",
              "      <td>16</td>\n",
              "      <td>205970</td>\n",
              "    </tr>\n",
              "  </tbody>\n",
              "</table>\n",
              "</div>"
            ],
            "text/plain": [
              "   order_id  product_id  ... department_id  user_id\n",
              "0         2       33120  ...            16   202279\n",
              "1         2       28985  ...             4   202279\n",
              "2         2        9327  ...            13   202279\n",
              "3         2       45918  ...            13   202279\n",
              "4         2       30035  ...            13   202279\n",
              "5         2       17794  ...             4   202279\n",
              "6         2       40141  ...            13   202279\n",
              "7         2        1819  ...            13   202279\n",
              "8         2       43668  ...             4   202279\n",
              "9         3       33754  ...            16   205970\n",
              "\n",
              "[10 rows x 6 columns]"
            ]
          },
          "metadata": {
            "tags": []
          },
          "execution_count": 9
        }
      ]
    },
    {
      "cell_type": "code",
      "metadata": {
        "colab": {
          "base_uri": "https://localhost:8080/"
        },
        "id": "YDw706Mcpj9w",
        "outputId": "ec9a62ef-e939-47f7-c1f9-dc8beddae8bc"
      },
      "source": [
        "df.shape"
      ],
      "execution_count": null,
      "outputs": [
        {
          "output_type": "execute_result",
          "data": {
            "text/plain": [
              "(1081149, 6)"
            ]
          },
          "metadata": {
            "tags": []
          },
          "execution_count": 10
        }
      ]
    },
    {
      "cell_type": "code",
      "metadata": {
        "colab": {
          "base_uri": "https://localhost:8080/"
        },
        "id": "qKLjSzbdVnJW",
        "outputId": "5a143d82-648e-474b-f07e-688959894dd1"
      },
      "source": [
        "df['user_id'].nunique()"
      ],
      "execution_count": null,
      "outputs": [
        {
          "output_type": "execute_result",
          "data": {
            "text/plain": [
              "70642"
            ]
          },
          "metadata": {
            "tags": []
          },
          "execution_count": 11
        }
      ]
    },
    {
      "cell_type": "code",
      "metadata": {
        "colab": {
          "base_uri": "https://localhost:8080/"
        },
        "id": "te81Bx4MV2w3",
        "outputId": "565ddd1c-9c7e-4123-8acb-2b46cf1c175d"
      },
      "source": [
        "df['order_id'].nunique() # more orders than users, as expected"
      ],
      "execution_count": null,
      "outputs": [
        {
          "output_type": "execute_result",
          "data": {
            "text/plain": [
              "107204"
            ]
          },
          "metadata": {
            "tags": []
          },
          "execution_count": 12
        }
      ]
    },
    {
      "cell_type": "code",
      "metadata": {
        "colab": {
          "base_uri": "https://localhost:8080/"
        },
        "id": "f7UYAIj1WlHZ",
        "outputId": "781da9cd-d048-4a69-8d81-a35eae7f8ecc"
      },
      "source": [
        "df.isna().sum()"
      ],
      "execution_count": null,
      "outputs": [
        {
          "output_type": "execute_result",
          "data": {
            "text/plain": [
              "order_id         0\n",
              "product_id       0\n",
              "product_name     0\n",
              "aisle_id         0\n",
              "department_id    0\n",
              "user_id          0\n",
              "dtype: int64"
            ]
          },
          "metadata": {
            "tags": []
          },
          "execution_count": 13
        }
      ]
    },
    {
      "cell_type": "code",
      "metadata": {
        "id": "FZ6QVm0AXlyT"
      },
      "source": [
        "df = df.dropna()"
      ],
      "execution_count": null,
      "outputs": []
    },
    {
      "cell_type": "code",
      "metadata": {
        "colab": {
          "base_uri": "https://localhost:8080/"
        },
        "id": "v1KeHpq9wehO",
        "outputId": "2c231c02-fdcc-4b5c-c7f3-4fb13787ec7e"
      },
      "source": [
        "df.shape"
      ],
      "execution_count": null,
      "outputs": [
        {
          "output_type": "execute_result",
          "data": {
            "text/plain": [
              "(1081149, 6)"
            ]
          },
          "metadata": {
            "tags": []
          },
          "execution_count": 15
        }
      ]
    },
    {
      "cell_type": "code",
      "metadata": {
        "id": "YqH1_pcBW5js"
      },
      "source": [
        "df.to_csv('/content/drive/MyDrive/instacart/df_pre.csv',encoding='utf-8', index=False)"
      ],
      "execution_count": null,
      "outputs": []
    },
    {
      "cell_type": "code",
      "metadata": {
        "colab": {
          "base_uri": "https://localhost:8080/"
        },
        "id": "L8tC9BSjAduD",
        "outputId": "cc400676-56b0-42ed-e35c-5745b61e0c5c"
      },
      "source": [
        "def sent_to_words(sentences):\r\n",
        "    ''' Tokenisation of sentences without punctuation'''\r\n",
        "    \r\n",
        "    for sentence in sentences:\r\n",
        "        yield(gensim.utils.simple_preprocess(str(sentence), deacc=True))  # deacc=True Remove the punctuation\r\n",
        "        \r\n",
        "\r\n",
        "data_words = list(sent_to_words(df[\"product_name\"]))\r\n",
        "print(data_words[:1])"
      ],
      "execution_count": null,
      "outputs": [
        {
          "output_type": "stream",
          "text": [
            "[['organic', 'egg', 'whites']]\n"
          ],
          "name": "stdout"
        }
      ]
    },
    {
      "cell_type": "code",
      "metadata": {
        "id": "PBnHA7CLrP6N"
      },
      "source": [
        "# Yield successive n-sized \r\n",
        "# chunks from l. \r\n",
        "#def divide_chunks(l, n): \r\n",
        "      \r\n",
        "    # looping till length l \r\n",
        "#    for i in range(0, len(l), n):  \r\n",
        "#        yield l[i:i + n]\r\n",
        "\r\n",
        "# How many elements each \r\n",
        "# list should have \r\n",
        "#n = int(len(data_words)/3) # divide list in 3 parts\r\n",
        "  \r\n",
        "#x = list(divide_chunks(data_words, n)) "
      ],
      "execution_count": null,
      "outputs": []
    },
    {
      "cell_type": "code",
      "metadata": {
        "colab": {
          "base_uri": "https://localhost:8080/"
        },
        "id": "BYwxMs8uuk69",
        "outputId": "5866c662-1765-431f-e788-72004d27270b"
      },
      "source": [
        "#data_words = x[0]\r\n",
        "len(data_words)"
      ],
      "execution_count": null,
      "outputs": [
        {
          "output_type": "execute_result",
          "data": {
            "text/plain": [
              "1081149"
            ]
          },
          "metadata": {
            "tags": []
          },
          "execution_count": 19
        }
      ]
    },
    {
      "cell_type": "code",
      "metadata": {
        "id": "8s0kZhamEAe4"
      },
      "source": [
        "def lemmatization(texts, allowed_postags=['NOUN', 'ADJ', 'VERB', 'ADV']):\r\n",
        "    \"\"\"It keeps the lemma of the words (lemma is the uninflected form of a word)\"\"\"\r\n",
        "    \r\n",
        "    texts_out = []\r\n",
        "    for sent in texts:\r\n",
        "        doc = nlp(\" \".join(sent)) \r\n",
        "        texts_out.append(\" \".join([token.lemma_ if token.lemma_ not in ['-PRON-'] else '' \r\n",
        "                                   for token in doc if token.pos_ in allowed_postags]))\r\n",
        "    return texts_out"
      ],
      "execution_count": null,
      "outputs": []
    },
    {
      "cell_type": "code",
      "metadata": {
        "id": "aF29-K4iLevl"
      },
      "source": [
        "# You don't have permission in Colab to load the model with normal spacy usage  .\r\n",
        "# Instead, import the model and load it directly:\r\n",
        "#import en_core_web_lg\r\n",
        "#nlp = en_core_web_lg.load()"
      ],
      "execution_count": null,
      "outputs": []
    },
    {
      "cell_type": "code",
      "metadata": {
        "id": "nkVmSXlAN--7"
      },
      "source": [
        "nlp = spacy.load('en_core_web_lg', disable=['parser', 'ner'])"
      ],
      "execution_count": null,
      "outputs": []
    },
    {
      "cell_type": "code",
      "metadata": {
        "colab": {
          "base_uri": "https://localhost:8080/"
        },
        "id": "L1lgYfeHZlJt",
        "outputId": "a4ec63ca-9472-4010-993b-2af99f3b80b0"
      },
      "source": [
        "# Do lemmatization keeping only Noun, Adj, Verb, Adverb\r\n",
        "data_lemmatized = lemmatization(data_words, allowed_postags=['NOUN', 'ADJ', 'VERB', 'ADV'])\r\n",
        "\r\n",
        "print(data_lemmatized[:10])"
      ],
      "execution_count": null,
      "outputs": [
        {
          "output_type": "stream",
          "text": [
            "['organic egg white', '', 'garlic', 'coconut butter', 'natural sweetener', 'carrot', 'original unflavored gelatine mix', 'natural stir creamy almond butter', 'slaw', 'total strawberry strained yogurt']\n"
          ],
          "name": "stdout"
        }
      ]
    },
    {
      "cell_type": "code",
      "metadata": {
        "id": "yUSJffQIdC4u"
      },
      "source": [
        "data_lemmatized_pd = pd.DataFrame(data_lemmatized)\r\n",
        "data_lemmatized_pd.to_csv('/content/drive/MyDrive/instacart/data_lemmatized.csv',encoding='utf-8', index=False)"
      ],
      "execution_count": null,
      "outputs": []
    },
    {
      "cell_type": "code",
      "metadata": {
        "colab": {
          "base_uri": "https://localhost:8080/"
        },
        "id": "zooyNQyX1H_M",
        "outputId": "ab78904c-a0cd-4213-bb0e-1b8f4e42d75c"
      },
      "source": [
        "# Create our products categories using LDA algorithm \r\n",
        "\r\n",
        "from sklearn.feature_extraction.text import TfidfVectorizer, CountVectorizer\r\n",
        "from sklearn.decomposition import LatentDirichletAllocation\r\n",
        "\r\n",
        "n_features = 2000 \r\n",
        "n_components = 5 # number of categories\r\n",
        "n_top_words = 15\r\n",
        "\r\n",
        "\r\n",
        "print(\"Extraction of tf features for LDA...\")\r\n",
        "tf_vectorizer = CountVectorizer(max_df=0.95, min_df=2,\r\n",
        "                                max_features=n_features,\r\n",
        "                                stop_words='english')\r\n",
        "\r\n",
        "tf = tf_vectorizer.fit_transform(data_lemmatized)\r\n",
        "\r\n",
        "\r\n",
        "def print_top_words(model, feature_names, n_top_words):\r\n",
        "    \r\n",
        "    for topic_idx, topic in enumerate(model.components_):\r\n",
        "        message = \"Topic #%d: \" % topic_idx\r\n",
        "        message += \" \".join([feature_names[i]\r\n",
        "                             for i in topic.argsort()[:-n_top_words - 1:-1]])\r\n",
        "        print(message)\r\n",
        "    print()\r\n",
        "\r\n",
        "\r\n",
        "lda = LatentDirichletAllocation(n_components=n_components, max_iter=5,\r\n",
        "                                learning_method='online',\r\n",
        "                                learning_offset=50.,\r\n",
        "                                random_state=0).fit(tf)\r\n",
        "\r\n",
        "print(\"\\n The categories in the LDA model :\")\r\n",
        "tf_feature_names = tf_vectorizer.get_feature_names()\r\n",
        "print_top_words(lda, tf_feature_names, n_top_words)"
      ],
      "execution_count": null,
      "outputs": [
        {
          "output_type": "stream",
          "text": [
            "Extraction of tf features for LDA...\n",
            "\n",
            " The categories in the LDA model :\n",
            "Topic #0: yogurt cheese milk free fat strawberry cream gluten blueberry reduce pure low roast greek total\n",
            "Topic #1: organic banana water bag butter apple sparkle cheddar onion red cracker grape natural peanut bunch\n",
            "Topic #2: organic baby milk almond spinach sweet sauce green white slice carrot unsweetened snack raspberry food\n",
            "Topic #3: original chip chicken potato juice coconut breast lime tortilla style pack corn classic smoke light\n",
            "Topic #4: organic tomato large salt bread egg bar chocolate wheat half grain extra fresh brown grade\n",
            "\n"
          ],
          "name": "stdout"
        }
      ]
    },
    {
      "cell_type": "code",
      "metadata": {
        "id": "ln84AOGn2OSp"
      },
      "source": [
        "# Creation of the Categories variable giving the category of each product purchased\r\n",
        "topics = lda.transform(tf)\r\n",
        "df_topics = pd.DataFrame(topics)\r\n",
        "list_topics = []\r\n",
        "\r\n",
        "for index, row in df_topics.iterrows():\r\n",
        "    column_line = str(row.idxmax(max(row)))\r\n",
        "    list_topics.append(column_line)\r\n",
        "    \r\n",
        "df[\"Categories\"] = pd.DataFrame(list_topics)"
      ],
      "execution_count": null,
      "outputs": []
    },
    {
      "cell_type": "code",
      "metadata": {
        "id": "vY8XVwsw4Quw",
        "colab": {
          "base_uri": "https://localhost:8080/"
        },
        "outputId": "ec6d8690-c3c1-4167-fb12-33fb35328862"
      },
      "source": [
        "df['Categories'].value_counts()"
      ],
      "execution_count": null,
      "outputs": [
        {
          "output_type": "execute_result",
          "data": {
            "text/plain": [
              "0    288172\n",
              "2    217199\n",
              "1    212546\n",
              "4    195283\n",
              "3    167949\n",
              "Name: Categories, dtype: int64"
            ]
          },
          "metadata": {
            "tags": []
          },
          "execution_count": 27
        }
      ]
    },
    {
      "cell_type": "code",
      "metadata": {
        "id": "x60FHHfW4Ygd",
        "colab": {
          "base_uri": "https://localhost:8080/",
          "height": 204
        },
        "outputId": "9e2c17fe-5e6e-4367-ed35-45cc6627da20"
      },
      "source": [
        "df.head()"
      ],
      "execution_count": null,
      "outputs": [
        {
          "output_type": "execute_result",
          "data": {
            "text/html": [
              "<div>\n",
              "<style scoped>\n",
              "    .dataframe tbody tr th:only-of-type {\n",
              "        vertical-align: middle;\n",
              "    }\n",
              "\n",
              "    .dataframe tbody tr th {\n",
              "        vertical-align: top;\n",
              "    }\n",
              "\n",
              "    .dataframe thead th {\n",
              "        text-align: right;\n",
              "    }\n",
              "</style>\n",
              "<table border=\"1\" class=\"dataframe\">\n",
              "  <thead>\n",
              "    <tr style=\"text-align: right;\">\n",
              "      <th></th>\n",
              "      <th>order_id</th>\n",
              "      <th>product_id</th>\n",
              "      <th>product_name</th>\n",
              "      <th>aisle_id</th>\n",
              "      <th>department_id</th>\n",
              "      <th>user_id</th>\n",
              "      <th>Categories</th>\n",
              "    </tr>\n",
              "  </thead>\n",
              "  <tbody>\n",
              "    <tr>\n",
              "      <th>0</th>\n",
              "      <td>2</td>\n",
              "      <td>33120</td>\n",
              "      <td>Organic Egg Whites</td>\n",
              "      <td>86</td>\n",
              "      <td>16</td>\n",
              "      <td>202279</td>\n",
              "      <td>2</td>\n",
              "    </tr>\n",
              "    <tr>\n",
              "      <th>1</th>\n",
              "      <td>2</td>\n",
              "      <td>28985</td>\n",
              "      <td>Michigan Organic Kale</td>\n",
              "      <td>83</td>\n",
              "      <td>4</td>\n",
              "      <td>202279</td>\n",
              "      <td>0</td>\n",
              "    </tr>\n",
              "    <tr>\n",
              "      <th>2</th>\n",
              "      <td>2</td>\n",
              "      <td>9327</td>\n",
              "      <td>Garlic Powder</td>\n",
              "      <td>104</td>\n",
              "      <td>13</td>\n",
              "      <td>202279</td>\n",
              "      <td>1</td>\n",
              "    </tr>\n",
              "    <tr>\n",
              "      <th>3</th>\n",
              "      <td>2</td>\n",
              "      <td>45918</td>\n",
              "      <td>Coconut Butter</td>\n",
              "      <td>19</td>\n",
              "      <td>13</td>\n",
              "      <td>202279</td>\n",
              "      <td>1</td>\n",
              "    </tr>\n",
              "    <tr>\n",
              "      <th>4</th>\n",
              "      <td>2</td>\n",
              "      <td>30035</td>\n",
              "      <td>Natural Sweetener</td>\n",
              "      <td>17</td>\n",
              "      <td>13</td>\n",
              "      <td>202279</td>\n",
              "      <td>3</td>\n",
              "    </tr>\n",
              "  </tbody>\n",
              "</table>\n",
              "</div>"
            ],
            "text/plain": [
              "   order_id  product_id  ... user_id  Categories\n",
              "0         2       33120  ...  202279           2\n",
              "1         2       28985  ...  202279           0\n",
              "2         2        9327  ...  202279           1\n",
              "3         2       45918  ...  202279           1\n",
              "4         2       30035  ...  202279           3\n",
              "\n",
              "[5 rows x 7 columns]"
            ]
          },
          "metadata": {
            "tags": []
          },
          "execution_count": 28
        }
      ]
    },
    {
      "cell_type": "code",
      "metadata": {
        "id": "oMw7t6To6hA3"
      },
      "source": [
        "df.dropna(axis=0, subset=[\"Categories\"], inplace=True)"
      ],
      "execution_count": null,
      "outputs": []
    },
    {
      "cell_type": "code",
      "metadata": {
        "id": "qgWjVysR4aeL"
      },
      "source": [
        "# One hot encoding on the variable Categories\r\n",
        "\r\n",
        "for category in df['Categories'].unique():\r\n",
        "    df[\"Category {}\".format(category)] = df['Categories'].str.contains(category).apply(lambda x:1 if x else 0)"
      ],
      "execution_count": null,
      "outputs": []
    },
    {
      "cell_type": "code",
      "metadata": {
        "id": "z-Zo8qaMfTKB",
        "colab": {
          "base_uri": "https://localhost:8080/",
          "height": 393
        },
        "outputId": "87792beb-b2dc-4349-f0c3-11a559c71a14"
      },
      "source": [
        "df.head(10)"
      ],
      "execution_count": null,
      "outputs": [
        {
          "output_type": "execute_result",
          "data": {
            "text/html": [
              "<div>\n",
              "<style scoped>\n",
              "    .dataframe tbody tr th:only-of-type {\n",
              "        vertical-align: middle;\n",
              "    }\n",
              "\n",
              "    .dataframe tbody tr th {\n",
              "        vertical-align: top;\n",
              "    }\n",
              "\n",
              "    .dataframe thead th {\n",
              "        text-align: right;\n",
              "    }\n",
              "</style>\n",
              "<table border=\"1\" class=\"dataframe\">\n",
              "  <thead>\n",
              "    <tr style=\"text-align: right;\">\n",
              "      <th></th>\n",
              "      <th>order_id</th>\n",
              "      <th>product_id</th>\n",
              "      <th>product_name</th>\n",
              "      <th>aisle_id</th>\n",
              "      <th>department_id</th>\n",
              "      <th>user_id</th>\n",
              "      <th>Categories</th>\n",
              "      <th>Category 2</th>\n",
              "      <th>Category 0</th>\n",
              "      <th>Category 1</th>\n",
              "      <th>Category 3</th>\n",
              "      <th>Category 4</th>\n",
              "    </tr>\n",
              "  </thead>\n",
              "  <tbody>\n",
              "    <tr>\n",
              "      <th>0</th>\n",
              "      <td>2</td>\n",
              "      <td>33120</td>\n",
              "      <td>Organic Egg Whites</td>\n",
              "      <td>86</td>\n",
              "      <td>16</td>\n",
              "      <td>202279</td>\n",
              "      <td>2</td>\n",
              "      <td>1</td>\n",
              "      <td>0</td>\n",
              "      <td>0</td>\n",
              "      <td>0</td>\n",
              "      <td>0</td>\n",
              "    </tr>\n",
              "    <tr>\n",
              "      <th>1</th>\n",
              "      <td>2</td>\n",
              "      <td>28985</td>\n",
              "      <td>Michigan Organic Kale</td>\n",
              "      <td>83</td>\n",
              "      <td>4</td>\n",
              "      <td>202279</td>\n",
              "      <td>0</td>\n",
              "      <td>0</td>\n",
              "      <td>1</td>\n",
              "      <td>0</td>\n",
              "      <td>0</td>\n",
              "      <td>0</td>\n",
              "    </tr>\n",
              "    <tr>\n",
              "      <th>2</th>\n",
              "      <td>2</td>\n",
              "      <td>9327</td>\n",
              "      <td>Garlic Powder</td>\n",
              "      <td>104</td>\n",
              "      <td>13</td>\n",
              "      <td>202279</td>\n",
              "      <td>1</td>\n",
              "      <td>0</td>\n",
              "      <td>0</td>\n",
              "      <td>1</td>\n",
              "      <td>0</td>\n",
              "      <td>0</td>\n",
              "    </tr>\n",
              "    <tr>\n",
              "      <th>3</th>\n",
              "      <td>2</td>\n",
              "      <td>45918</td>\n",
              "      <td>Coconut Butter</td>\n",
              "      <td>19</td>\n",
              "      <td>13</td>\n",
              "      <td>202279</td>\n",
              "      <td>1</td>\n",
              "      <td>0</td>\n",
              "      <td>0</td>\n",
              "      <td>1</td>\n",
              "      <td>0</td>\n",
              "      <td>0</td>\n",
              "    </tr>\n",
              "    <tr>\n",
              "      <th>4</th>\n",
              "      <td>2</td>\n",
              "      <td>30035</td>\n",
              "      <td>Natural Sweetener</td>\n",
              "      <td>17</td>\n",
              "      <td>13</td>\n",
              "      <td>202279</td>\n",
              "      <td>3</td>\n",
              "      <td>0</td>\n",
              "      <td>0</td>\n",
              "      <td>0</td>\n",
              "      <td>1</td>\n",
              "      <td>0</td>\n",
              "    </tr>\n",
              "    <tr>\n",
              "      <th>5</th>\n",
              "      <td>2</td>\n",
              "      <td>17794</td>\n",
              "      <td>Carrots</td>\n",
              "      <td>83</td>\n",
              "      <td>4</td>\n",
              "      <td>202279</td>\n",
              "      <td>2</td>\n",
              "      <td>1</td>\n",
              "      <td>0</td>\n",
              "      <td>0</td>\n",
              "      <td>0</td>\n",
              "      <td>0</td>\n",
              "    </tr>\n",
              "    <tr>\n",
              "      <th>6</th>\n",
              "      <td>2</td>\n",
              "      <td>40141</td>\n",
              "      <td>Original Unflavored Gelatine Mix</td>\n",
              "      <td>105</td>\n",
              "      <td>13</td>\n",
              "      <td>202279</td>\n",
              "      <td>2</td>\n",
              "      <td>1</td>\n",
              "      <td>0</td>\n",
              "      <td>0</td>\n",
              "      <td>0</td>\n",
              "      <td>0</td>\n",
              "    </tr>\n",
              "    <tr>\n",
              "      <th>7</th>\n",
              "      <td>2</td>\n",
              "      <td>1819</td>\n",
              "      <td>All Natural No Stir Creamy Almond Butter</td>\n",
              "      <td>88</td>\n",
              "      <td>13</td>\n",
              "      <td>202279</td>\n",
              "      <td>1</td>\n",
              "      <td>0</td>\n",
              "      <td>0</td>\n",
              "      <td>1</td>\n",
              "      <td>0</td>\n",
              "      <td>0</td>\n",
              "    </tr>\n",
              "    <tr>\n",
              "      <th>8</th>\n",
              "      <td>2</td>\n",
              "      <td>43668</td>\n",
              "      <td>Classic Blend Cole Slaw</td>\n",
              "      <td>123</td>\n",
              "      <td>4</td>\n",
              "      <td>202279</td>\n",
              "      <td>4</td>\n",
              "      <td>0</td>\n",
              "      <td>0</td>\n",
              "      <td>0</td>\n",
              "      <td>0</td>\n",
              "      <td>1</td>\n",
              "    </tr>\n",
              "    <tr>\n",
              "      <th>9</th>\n",
              "      <td>3</td>\n",
              "      <td>33754</td>\n",
              "      <td>Total 2% with Strawberry Lowfat Greek Strained...</td>\n",
              "      <td>120</td>\n",
              "      <td>16</td>\n",
              "      <td>205970</td>\n",
              "      <td>0</td>\n",
              "      <td>0</td>\n",
              "      <td>1</td>\n",
              "      <td>0</td>\n",
              "      <td>0</td>\n",
              "      <td>0</td>\n",
              "    </tr>\n",
              "  </tbody>\n",
              "</table>\n",
              "</div>"
            ],
            "text/plain": [
              "   order_id  product_id  ... Category 3  Category 4\n",
              "0         2       33120  ...          0           0\n",
              "1         2       28985  ...          0           0\n",
              "2         2        9327  ...          0           0\n",
              "3         2       45918  ...          0           0\n",
              "4         2       30035  ...          1           0\n",
              "5         2       17794  ...          0           0\n",
              "6         2       40141  ...          0           0\n",
              "7         2        1819  ...          0           0\n",
              "8         2       43668  ...          0           1\n",
              "9         3       33754  ...          0           0\n",
              "\n",
              "[10 rows x 12 columns]"
            ]
          },
          "metadata": {
            "tags": []
          },
          "execution_count": 31
        }
      ]
    },
    {
      "cell_type": "code",
      "metadata": {
        "id": "oZgkMnkp7o25"
      },
      "source": [
        "df.to_csv('/content/drive/MyDrive/instacart/df.csv',encoding='utf-8', index=False)"
      ],
      "execution_count": null,
      "outputs": []
    }
  ]
}